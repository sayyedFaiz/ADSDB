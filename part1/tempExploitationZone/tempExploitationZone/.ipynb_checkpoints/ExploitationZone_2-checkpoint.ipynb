{
 "cells": [
  {
   "cell_type": "code",
   "execution_count": 1,
   "metadata": {
    "colab": {
     "base_uri": "https://localhost:8080/"
    },
    "executionInfo": {
     "elapsed": 17823,
     "status": "ok",
     "timestamp": 1700232591364,
     "user": {
      "displayName": "Alexandros Tremopoulos",
      "userId": "18030826848297166341"
     },
     "user_tz": -60
    },
    "id": "Y-zuttmK91hn",
    "outputId": "140469ab-4ac5-4172-a0ca-c5bcbaf39a26"
   },
   "outputs": [
    {
     "name": "stdout",
     "output_type": "stream",
     "text": [
      "Mounted at /content/drive\n"
     ]
    }
   ],
   "source": [
    "from google.colab import drive\n",
    "drive.mount('/content/drive')"
   ]
  },
  {
   "cell_type": "code",
   "execution_count": 1,
   "metadata": {
    "executionInfo": {
     "elapsed": 1116,
     "status": "ok",
     "timestamp": 1700232602931,
     "user": {
      "displayName": "Alexandros Tremopoulos",
      "userId": "18030826848297166341"
     },
     "user_tz": -60
    },
    "id": "YgoawJ51_gzu"
   },
   "outputs": [],
   "source": [
    "import duckdb\n",
    "import os\n",
    "import pandas as pd\n",
    "import duckdb\n",
    "import sys"
   ]
  },
  {
   "cell_type": "markdown",
   "metadata": {
    "id": "3dLf9RXM-8-5"
   },
   "source": [
    "In this notebook the entities for the exploitation database are created."
   ]
  },
  {
   "cell_type": "code",
   "execution_count": 5,
   "metadata": {
    "id": "hhwGYWC1_cEx"
   },
   "outputs": [],
   "source": [
    "#con = duckdb.connect(database='/content/drive/MyDrive/ADSDB/TrustedZone/trusted_database.db')\n",
    "con = duckdb.connect(database='trusted_database.db')\n",
    "result = con.execute('SHOW TABLES')\n",
    "tables = result.fetchall()"
   ]
  },
  {
   "cell_type": "code",
   "execution_count": 6,
   "metadata": {
    "colab": {
     "base_uri": "https://localhost:8080/"
    },
    "executionInfo": {
     "elapsed": 2,
     "status": "ok",
     "timestamp": 1698424590039,
     "user": {
      "displayName": "Alexandros Tremopoulos",
      "userId": "18030826848297166341"
     },
     "user_tz": -120
    },
    "id": "AM2ZyN6t_e5q",
    "outputId": "d819ece6-45a9-4996-e653-ed65c32c3e46"
   },
   "outputs": [
    {
     "name": "stderr",
     "output_type": "stream",
     "text": [
      "c:\\users\\sayye\\appdata\\local\\programs\\python\\python39\\lib\\site-packages\\pandas\\io\\sql.py:761: UserWarning: pandas only support SQLAlchemy connectable(engine/connection) ordatabase string URI or sqlite3 DBAPI2 connectionother DBAPI2 objects are not tested, please consider using SQLAlchemy\n",
      "  warnings.warn(\n"
     ]
    }
   ],
   "source": [
    "table_name = 'income'\n",
    "\n",
    "query = f'SELECT * FROM {table_name};'\n",
    "df_income = pd.read_sql_query(query, con)\n",
    "\n",
    "table_name = 'rents'\n",
    "\n",
    "query = f'SELECT * FROM {table_name};'\n",
    "df_rents = pd.read_sql_query(query, con)\n",
    "con.close()"
   ]
  },
  {
   "cell_type": "code",
   "execution_count": 7,
   "metadata": {},
   "outputs": [],
   "source": [
    "df_rents = pd.read_csv('df_rent_avg_month.csv')\n",
    "df_income = pd.read_csv('df_income_avg.csv')"
   ]
  },
  {
   "cell_type": "code",
   "execution_count": 8,
   "metadata": {},
   "outputs": [
    {
     "data": {
      "text/html": [
       "<div>\n",
       "<style scoped>\n",
       "    .dataframe tbody tr th:only-of-type {\n",
       "        vertical-align: middle;\n",
       "    }\n",
       "\n",
       "    .dataframe tbody tr th {\n",
       "        vertical-align: top;\n",
       "    }\n",
       "\n",
       "    .dataframe thead th {\n",
       "        text-align: right;\n",
       "    }\n",
       "</style>\n",
       "<table border=\"1\" class=\"dataframe\">\n",
       "  <thead>\n",
       "    <tr style=\"text-align: right;\">\n",
       "      <th></th>\n",
       "      <th>Year</th>\n",
       "      <th>Trimester</th>\n",
       "      <th>District</th>\n",
       "      <th>Neighbourhood</th>\n",
       "      <th>Price</th>\n",
       "    </tr>\n",
       "  </thead>\n",
       "  <tbody>\n",
       "    <tr>\n",
       "      <th>0</th>\n",
       "      <td>2018</td>\n",
       "      <td>1</td>\n",
       "      <td>ciutat vella</td>\n",
       "      <td>el raval</td>\n",
       "      <td>792.74</td>\n",
       "    </tr>\n",
       "    <tr>\n",
       "      <th>1</th>\n",
       "      <td>2018</td>\n",
       "      <td>1</td>\n",
       "      <td>ciutat vella</td>\n",
       "      <td>el gotic</td>\n",
       "      <td>998.40</td>\n",
       "    </tr>\n",
       "    <tr>\n",
       "      <th>2</th>\n",
       "      <td>2018</td>\n",
       "      <td>1</td>\n",
       "      <td>ciutat vella</td>\n",
       "      <td>la barceloneta</td>\n",
       "      <td>870.84</td>\n",
       "    </tr>\n",
       "    <tr>\n",
       "      <th>3</th>\n",
       "      <td>2018</td>\n",
       "      <td>1</td>\n",
       "      <td>ciutat vella</td>\n",
       "      <td>sant pere, santa caterina i la ribera</td>\n",
       "      <td>923.44</td>\n",
       "    </tr>\n",
       "    <tr>\n",
       "      <th>4</th>\n",
       "      <td>2018</td>\n",
       "      <td>1</td>\n",
       "      <td>eixample</td>\n",
       "      <td>el fort pienc</td>\n",
       "      <td>910.53</td>\n",
       "    </tr>\n",
       "  </tbody>\n",
       "</table>\n",
       "</div>"
      ],
      "text/plain": [
       "   Year  Trimester      District                          Neighbourhood  \\\n",
       "0  2018          1  ciutat vella                               el raval   \n",
       "1  2018          1  ciutat vella                               el gotic   \n",
       "2  2018          1  ciutat vella                         la barceloneta   \n",
       "3  2018          1  ciutat vella  sant pere, santa caterina i la ribera   \n",
       "4  2018          1      eixample                          el fort pienc   \n",
       "\n",
       "    Price  \n",
       "0  792.74  \n",
       "1  998.40  \n",
       "2  870.84  \n",
       "3  923.44  \n",
       "4  910.53  "
      ]
     },
     "execution_count": 8,
     "metadata": {},
     "output_type": "execute_result"
    }
   ],
   "source": [
    "df_rents.head()"
   ]
  },
  {
   "cell_type": "code",
   "execution_count": 9,
   "metadata": {},
   "outputs": [
    {
     "data": {
      "text/plain": [
       "nou barris             121\n",
       "horta-guinardo         120\n",
       "sant marti             120\n",
       "sants-montjuic          85\n",
       "sant andreu             74\n",
       "eixample                72\n",
       "sarria-sant gervasi     72\n",
       "gracia                  60\n",
       "ciutat vella            48\n",
       "les corts               36\n",
       "Name: District, dtype: int64"
      ]
     },
     "execution_count": 9,
     "metadata": {},
     "output_type": "execute_result"
    }
   ],
   "source": [
    "df_rents['District'].value_counts()"
   ]
  },
  {
   "cell_type": "markdown",
   "metadata": {
    "id": "A8tqgR_t_R4f"
   },
   "source": [
    "After the homogenization of the same features took place, we are integrating the tables in order to create entity tables for the exploitation database. In order to do this, we create many dataframes with primary and foreign keys, so they can be inserted directly to the tables. The structure idea is explained in the report document."
   ]
  },
  {
   "cell_type": "markdown",
   "metadata": {
    "id": "Rck8EYKR_Vbv"
   },
   "source": [
    "FIRST create a dataframe that contains all the unique combinations of neighbourhoods and districts."
   ]
  },
  {
   "cell_type": "code",
   "execution_count": 10,
   "metadata": {
    "colab": {
     "base_uri": "https://localhost:8080/",
     "height": 225
    },
    "executionInfo": {
     "elapsed": 254,
     "status": "ok",
     "timestamp": 1698424594462,
     "user": {
      "displayName": "Alexandros Tremopoulos",
      "userId": "18030826848297166341"
     },
     "user_tz": -120
    },
    "id": "VKYuoY0g_DcE",
    "outputId": "8faba05c-7d4e-4332-e8a1-005cdd619c34"
   },
   "outputs": [
    {
     "name": "stdout",
     "output_type": "stream",
     "text": [
      "71\n"
     ]
    },
    {
     "data": {
      "text/html": [
       "<div>\n",
       "<style scoped>\n",
       "    .dataframe tbody tr th:only-of-type {\n",
       "        vertical-align: middle;\n",
       "    }\n",
       "\n",
       "    .dataframe tbody tr th {\n",
       "        vertical-align: top;\n",
       "    }\n",
       "\n",
       "    .dataframe thead th {\n",
       "        text-align: right;\n",
       "    }\n",
       "</style>\n",
       "<table border=\"1\" class=\"dataframe\">\n",
       "  <thead>\n",
       "    <tr style=\"text-align: right;\">\n",
       "      <th></th>\n",
       "      <th>District</th>\n",
       "      <th>Neighbourhood</th>\n",
       "    </tr>\n",
       "  </thead>\n",
       "  <tbody>\n",
       "    <tr>\n",
       "      <th>0</th>\n",
       "      <td>nou barris</td>\n",
       "      <td>torre baro</td>\n",
       "    </tr>\n",
       "    <tr>\n",
       "      <th>1</th>\n",
       "      <td>sant andreu</td>\n",
       "      <td>baro de viver</td>\n",
       "    </tr>\n",
       "    <tr>\n",
       "      <th>2</th>\n",
       "      <td>sant marti</td>\n",
       "      <td>sant martiide provencals</td>\n",
       "    </tr>\n",
       "    <tr>\n",
       "      <th>3</th>\n",
       "      <td>ciutat vella</td>\n",
       "      <td>el raval</td>\n",
       "    </tr>\n",
       "    <tr>\n",
       "      <th>4</th>\n",
       "      <td>ciutat vella</td>\n",
       "      <td>el gotic</td>\n",
       "    </tr>\n",
       "  </tbody>\n",
       "</table>\n",
       "</div>"
      ],
      "text/plain": [
       "       District             Neighbourhood\n",
       "0    nou barris                torre baro\n",
       "1   sant andreu             baro de viver\n",
       "2    sant marti  sant martiide provencals\n",
       "3  ciutat vella                  el raval\n",
       "4  ciutat vella                  el gotic"
      ]
     },
     "execution_count": 10,
     "metadata": {},
     "output_type": "execute_result"
    }
   ],
   "source": [
    "# delete possible duplicates in rent neighbourhoods\n",
    "rents_neigh = df_rents.drop_duplicates(\n",
    "  subset = ['District', 'Neighbourhood'],\n",
    "  keep = 'last').reset_index(drop = True)\n",
    "print(len(rents_neigh))\n",
    "rents_neigh = rents_neigh[['District', 'Neighbourhood']]\n",
    "rents_neigh.head()"
   ]
  },
  {
   "cell_type": "code",
   "execution_count": 11,
   "metadata": {
    "colab": {
     "base_uri": "https://localhost:8080/",
     "height": 225
    },
    "executionInfo": {
     "elapsed": 4,
     "status": "ok",
     "timestamp": 1698424606386,
     "user": {
      "displayName": "Alexandros Tremopoulos",
      "userId": "18030826848297166341"
     },
     "user_tz": -120
    },
    "id": "QUxbBxKw_X1v",
    "outputId": "79a50beb-8cac-41c7-f944-3ebe1a180c34"
   },
   "outputs": [
    {
     "name": "stdout",
     "output_type": "stream",
     "text": [
      "79\n"
     ]
    },
    {
     "data": {
      "text/html": [
       "<div>\n",
       "<style scoped>\n",
       "    .dataframe tbody tr th:only-of-type {\n",
       "        vertical-align: middle;\n",
       "    }\n",
       "\n",
       "    .dataframe tbody tr th {\n",
       "        vertical-align: top;\n",
       "    }\n",
       "\n",
       "    .dataframe thead th {\n",
       "        text-align: right;\n",
       "    }\n",
       "</style>\n",
       "<table border=\"1\" class=\"dataframe\">\n",
       "  <thead>\n",
       "    <tr style=\"text-align: right;\">\n",
       "      <th></th>\n",
       "      <th>District</th>\n",
       "      <th>Neighbourhood</th>\n",
       "    </tr>\n",
       "  </thead>\n",
       "  <tbody>\n",
       "    <tr>\n",
       "      <th>0</th>\n",
       "      <td>gracia</td>\n",
       "      <td>vila de gracia</td>\n",
       "    </tr>\n",
       "    <tr>\n",
       "      <th>1</th>\n",
       "      <td>sant marti</td>\n",
       "      <td>camp de l'arpa del clot</td>\n",
       "    </tr>\n",
       "    <tr>\n",
       "      <th>2</th>\n",
       "      <td>sants-montjuic</td>\n",
       "      <td>sants - badal</td>\n",
       "    </tr>\n",
       "    <tr>\n",
       "      <th>3</th>\n",
       "      <td>sarria-sant gervasi</td>\n",
       "      <td>el putget i farro</td>\n",
       "    </tr>\n",
       "    <tr>\n",
       "      <th>4</th>\n",
       "      <td>sarria-sant gervasi</td>\n",
       "      <td>sant gervasi - galvany</td>\n",
       "    </tr>\n",
       "  </tbody>\n",
       "</table>\n",
       "</div>"
      ],
      "text/plain": [
       "              District            Neighbourhood\n",
       "0               gracia           vila de gracia\n",
       "1           sant marti  camp de l'arpa del clot\n",
       "2       sants-montjuic            sants - badal\n",
       "3  sarria-sant gervasi        el putget i farro\n",
       "4  sarria-sant gervasi   sant gervasi - galvany"
      ]
     },
     "execution_count": 11,
     "metadata": {},
     "output_type": "execute_result"
    }
   ],
   "source": [
    "# delete possible duplicates in income neighbourhoods\n",
    "income_neigh = df_income.drop_duplicates(\n",
    "  subset = ['Nom_Districte', 'Nom_Barri'],\n",
    "  keep = 'last').reset_index(drop = True)\n",
    "print(len(income_neigh))\n",
    "income_neigh = income_neigh[['Nom_Districte', 'Nom_Barri']]\n",
    "income_neigh.rename(columns={'Nom_Districte': 'District', 'Nom_Barri': 'Neighbourhood'}, inplace=True)\n",
    "income_neigh.head()"
   ]
  },
  {
   "cell_type": "markdown",
   "metadata": {
    "id": "QaoViTri_uyO"
   },
   "source": [
    "Merge the dataframes with the distinct area combinations of the two tables into one."
   ]
  },
  {
   "cell_type": "code",
   "execution_count": 12,
   "metadata": {
    "colab": {
     "base_uri": "https://localhost:8080/",
     "height": 206
    },
    "executionInfo": {
     "elapsed": 304,
     "status": "ok",
     "timestamp": 1698424624358,
     "user": {
      "displayName": "Alexandros Tremopoulos",
      "userId": "18030826848297166341"
     },
     "user_tz": -120
    },
    "id": "GfKgOz2M_wqM",
    "outputId": "6088cfa0-5e7c-40f9-e095-5c245eba39a5"
   },
   "outputs": [
    {
     "data": {
      "text/html": [
       "<div>\n",
       "<style scoped>\n",
       "    .dataframe tbody tr th:only-of-type {\n",
       "        vertical-align: middle;\n",
       "    }\n",
       "\n",
       "    .dataframe tbody tr th {\n",
       "        vertical-align: top;\n",
       "    }\n",
       "\n",
       "    .dataframe thead th {\n",
       "        text-align: right;\n",
       "    }\n",
       "</style>\n",
       "<table border=\"1\" class=\"dataframe\">\n",
       "  <thead>\n",
       "    <tr style=\"text-align: right;\">\n",
       "      <th></th>\n",
       "      <th>District</th>\n",
       "      <th>Neighbourhood</th>\n",
       "      <th>_merge</th>\n",
       "    </tr>\n",
       "  </thead>\n",
       "  <tbody>\n",
       "    <tr>\n",
       "      <th>0</th>\n",
       "      <td>gracia</td>\n",
       "      <td>vila de gracia</td>\n",
       "      <td>left_only</td>\n",
       "    </tr>\n",
       "    <tr>\n",
       "      <th>1</th>\n",
       "      <td>sant marti</td>\n",
       "      <td>camp de l'arpa del clot</td>\n",
       "      <td>left_only</td>\n",
       "    </tr>\n",
       "    <tr>\n",
       "      <th>2</th>\n",
       "      <td>sants-montjuic</td>\n",
       "      <td>sants - badal</td>\n",
       "      <td>both</td>\n",
       "    </tr>\n",
       "    <tr>\n",
       "      <th>3</th>\n",
       "      <td>sarria-sant gervasi</td>\n",
       "      <td>el putget i farro</td>\n",
       "      <td>left_only</td>\n",
       "    </tr>\n",
       "    <tr>\n",
       "      <th>4</th>\n",
       "      <td>sarria-sant gervasi</td>\n",
       "      <td>sant gervasi - galvany</td>\n",
       "      <td>both</td>\n",
       "    </tr>\n",
       "  </tbody>\n",
       "</table>\n",
       "</div>"
      ],
      "text/plain": [
       "              District            Neighbourhood     _merge\n",
       "0               gracia           vila de gracia  left_only\n",
       "1           sant marti  camp de l'arpa del clot  left_only\n",
       "2       sants-montjuic            sants - badal       both\n",
       "3  sarria-sant gervasi        el putget i farro  left_only\n",
       "4  sarria-sant gervasi   sant gervasi - galvany       both"
      ]
     },
     "execution_count": 12,
     "metadata": {},
     "output_type": "execute_result"
    }
   ],
   "source": [
    "df_merge_col = pd.merge(income_neigh , rents_neigh, on=['Neighbourhood', 'District'], how='outer', indicator=True)\n",
    "df_merge_col.head()"
   ]
  },
  {
   "cell_type": "code",
   "execution_count": 13,
   "metadata": {
    "colab": {
     "base_uri": "https://localhost:8080/"
    },
    "executionInfo": {
     "elapsed": 298,
     "status": "ok",
     "timestamp": 1698424632988,
     "user": {
      "displayName": "Alexandros Tremopoulos",
      "userId": "18030826848297166341"
     },
     "user_tz": -120
    },
    "id": "wJTzePZl_yoX",
    "outputId": "827c47a2-6865-40f5-8c32-2d00aa0e6e5d"
   },
   "outputs": [
    {
     "data": {
      "text/plain": [
       "80"
      ]
     },
     "execution_count": 13,
     "metadata": {},
     "output_type": "execute_result"
    }
   ],
   "source": [
    "len(df_merge_col)  # 80 different area combinations"
   ]
  },
  {
   "cell_type": "code",
   "execution_count": 14,
   "metadata": {
    "colab": {
     "base_uri": "https://localhost:8080/",
     "height": 206
    },
    "executionInfo": {
     "elapsed": 7,
     "status": "ok",
     "timestamp": 1698424638408,
     "user": {
      "displayName": "Alexandros Tremopoulos",
      "userId": "18030826848297166341"
     },
     "user_tz": -120
    },
    "id": "3P1y_1ig_yvu",
    "outputId": "f421e26c-cc4f-4e27-e04a-7ffe0c410c90"
   },
   "outputs": [
    {
     "data": {
      "text/html": [
       "<div>\n",
       "<style scoped>\n",
       "    .dataframe tbody tr th:only-of-type {\n",
       "        vertical-align: middle;\n",
       "    }\n",
       "\n",
       "    .dataframe tbody tr th {\n",
       "        vertical-align: top;\n",
       "    }\n",
       "\n",
       "    .dataframe thead th {\n",
       "        text-align: right;\n",
       "    }\n",
       "</style>\n",
       "<table border=\"1\" class=\"dataframe\">\n",
       "  <thead>\n",
       "    <tr style=\"text-align: right;\">\n",
       "      <th></th>\n",
       "      <th>District</th>\n",
       "      <th>Neighbourhood</th>\n",
       "    </tr>\n",
       "  </thead>\n",
       "  <tbody>\n",
       "    <tr>\n",
       "      <th>0</th>\n",
       "      <td>gracia</td>\n",
       "      <td>vila de gracia</td>\n",
       "    </tr>\n",
       "    <tr>\n",
       "      <th>1</th>\n",
       "      <td>sant marti</td>\n",
       "      <td>camp de l'arpa del clot</td>\n",
       "    </tr>\n",
       "    <tr>\n",
       "      <th>2</th>\n",
       "      <td>sants-montjuic</td>\n",
       "      <td>sants - badal</td>\n",
       "    </tr>\n",
       "    <tr>\n",
       "      <th>3</th>\n",
       "      <td>sarria-sant gervasi</td>\n",
       "      <td>el putget i farro</td>\n",
       "    </tr>\n",
       "    <tr>\n",
       "      <th>4</th>\n",
       "      <td>sarria-sant gervasi</td>\n",
       "      <td>sant gervasi - galvany</td>\n",
       "    </tr>\n",
       "  </tbody>\n",
       "</table>\n",
       "</div>"
      ],
      "text/plain": [
       "              District            Neighbourhood\n",
       "0               gracia           vila de gracia\n",
       "1           sant marti  camp de l'arpa del clot\n",
       "2       sants-montjuic            sants - badal\n",
       "3  sarria-sant gervasi        el putget i farro\n",
       "4  sarria-sant gervasi   sant gervasi - galvany"
      ]
     },
     "execution_count": 14,
     "metadata": {},
     "output_type": "execute_result"
    }
   ],
   "source": [
    "df_area = df_merge_col[['District', 'Neighbourhood']]\n",
    "df_area.head()"
   ]
  },
  {
   "cell_type": "markdown",
   "metadata": {
    "id": "iKZE0snU_2_e"
   },
   "source": [
    "Create the database file, so we can create new tables. Initially, create 'area' table and insert the dataframe created above."
   ]
  },
  {
   "cell_type": "code",
   "execution_count": 15,
   "metadata": {
    "id": "vHzT3Ey2_yyS"
   },
   "outputs": [],
   "source": [
    "path = 'exploitationDB.db'\n",
    "con = duckdb.connect(database=path)"
   ]
  },
  {
   "cell_type": "code",
   "execution_count": 16,
   "metadata": {
    "colab": {
     "base_uri": "https://localhost:8080/"
    },
    "executionInfo": {
     "elapsed": 3,
     "status": "ok",
     "timestamp": 1698424689509,
     "user": {
      "displayName": "Alexandros Tremopoulos",
      "userId": "18030826848297166341"
     },
     "user_tz": -120
    },
    "id": "nC7b9bZT__3o",
    "outputId": "a8c9a61f-3804-4e31-a496-317e1bf7d2a9"
   },
   "outputs": [
    {
     "data": {
      "text/plain": [
       "<duckdb.DuckDBPyConnection at 0x23a2840e8b0>"
      ]
     },
     "execution_count": 16,
     "metadata": {},
     "output_type": "execute_result"
    }
   ],
   "source": [
    "table_name = 'area'\n",
    "\n",
    "query = f'CREATE TABLE {table_name} (district VARCHAR, neighbourhood VARCHAR);'\n",
    "con.execute(query)\n",
    "con.execute(f\"INSERT INTO {table_name} SELECT District, Neighbourhood FROM df_area\")"
   ]
  },
  {
   "cell_type": "code",
   "execution_count": 17,
   "metadata": {
    "colab": {
     "base_uri": "https://localhost:8080/"
    },
    "executionInfo": {
     "elapsed": 4,
     "status": "ok",
     "timestamp": 1698424696873,
     "user": {
      "displayName": "Alexandros Tremopoulos",
      "userId": "18030826848297166341"
     },
     "user_tz": -120
    },
    "id": "iXV691QuACct",
    "outputId": "11dd5e5e-4fb0-411e-cc9c-52ac593a7511"
   },
   "outputs": [
    {
     "data": {
      "text/plain": [
       "<duckdb.DuckDBPyConnection at 0x23a2840e8b0>"
      ]
     },
     "execution_count": 17,
     "metadata": {},
     "output_type": "execute_result"
    }
   ],
   "source": [
    "# Create an ID column for primary key\n",
    "alter_query = f'ALTER TABLE {table_name} ADD id INTEGER;'\n",
    "con.execute(alter_query)\n",
    "update_query = f'UPDATE {table_name} SET id = rowid +1;'\n",
    "con.execute(update_query)"
   ]
  },
  {
   "cell_type": "code",
   "execution_count": 18,
   "metadata": {
    "colab": {
     "base_uri": "https://localhost:8080/"
    },
    "executionInfo": {
     "elapsed": 4,
     "status": "ok",
     "timestamp": 1698424702150,
     "user": {
      "displayName": "Alexandros Tremopoulos",
      "userId": "18030826848297166341"
     },
     "user_tz": -120
    },
    "id": "N8hle-ORACe-",
    "outputId": "368d519f-f776-41d1-f01e-5af86f88ea63"
   },
   "outputs": [
    {
     "name": "stdout",
     "output_type": "stream",
     "text": [
      "Table: area\n",
      "('gracia', 'vila de gracia', 1)\n",
      "('sant marti', \"camp de l'arpa del clot\", 2)\n",
      "('sants-montjuic', 'sants - badal', 3)\n",
      "('sarria-sant gervasi', 'el putget i farro', 4)\n",
      "('sarria-sant gervasi', 'sant gervasi - galvany', 5)\n",
      "\n",
      "\n"
     ]
    }
   ],
   "source": [
    "# print the table created with its first five rows.\n",
    "result = con.execute('SHOW TABLES')\n",
    "tables = result.fetchall()\n",
    "\n",
    "# Iterate through the tables and select the first five rows\n",
    "for table in tables:\n",
    "    table_name = table[0]\n",
    "    print(f\"Table: {table_name}\")\n",
    "\n",
    "    # Select the first five rows\n",
    "    select_first_query = f'SELECT * FROM {table_name} LIMIT 5'\n",
    "    result = con.execute(select_first_query)\n",
    "    first_rows = result.fetchall()\n",
    "\n",
    "    for row in first_rows:\n",
    "        print(row)\n",
    "\n",
    "    print(\"\\n\")"
   ]
  },
  {
   "cell_type": "markdown",
   "metadata": {
    "id": "e0IJoebKAF1V"
   },
   "source": [
    "Create the 'time' table with only 3 distinct values, (2018, 2019, 2020)"
   ]
  },
  {
   "cell_type": "code",
   "execution_count": 19,
   "metadata": {
    "colab": {
     "base_uri": "https://localhost:8080/"
    },
    "executionInfo": {
     "elapsed": 3,
     "status": "ok",
     "timestamp": 1698424715993,
     "user": {
      "displayName": "Alexandros Tremopoulos",
      "userId": "18030826848297166341"
     },
     "user_tz": -120
    },
    "id": "1Lc6pIuIAChV",
    "outputId": "85cda75b-6f09-4921-dffc-a05867cbe4c0"
   },
   "outputs": [
    {
     "data": {
      "text/plain": [
       "<duckdb.DuckDBPyConnection at 0x23a2840e8b0>"
      ]
     },
     "execution_count": 19,
     "metadata": {},
     "output_type": "execute_result"
    }
   ],
   "source": [
    "table_name = 'trimester'\n",
    "\n",
    "query = f'CREATE TABLE {table_name} (id INTEGER, trimester INTEGER, year INTEGER,);'\n",
    "con.execute(query)\n",
    "query = f'INSERT INTO {table_name} VALUES (1, 1, 2018), (2, 2, 2018), (3, 3, 2018), (4, 4, 2018), (5, 1, 2019), (6, 2, 2019), (7, 3, 2019), (8, 4, 2019), (9, 1, 2020), (10, 2, 2020), (11, 3, 2020), (12, 4, 2020);'\n",
    "con.execute(query)"
   ]
  },
  {
   "cell_type": "code",
   "execution_count": 20,
   "metadata": {},
   "outputs": [
    {
     "data": {
      "text/plain": [
       "<duckdb.DuckDBPyConnection at 0x23a2840e8b0>"
      ]
     },
     "execution_count": 20,
     "metadata": {},
     "output_type": "execute_result"
    }
   ],
   "source": [
    "table_name = 'year'\n",
    "\n",
    "query = f'CREATE TABLE {table_name} (id INTEGER, year INTEGER);'\n",
    "con.execute(query)\n",
    "query = f'INSERT INTO {table_name} VALUES (1,2018),(2, 2019), (3,2020);'\n",
    "con.execute(query)"
   ]
  },
  {
   "cell_type": "code",
   "execution_count": 21,
   "metadata": {
    "colab": {
     "base_uri": "https://localhost:8080/",
     "height": 225
    },
    "executionInfo": {
     "elapsed": 10,
     "status": "ok",
     "timestamp": 1698424723700,
     "user": {
      "displayName": "Alexandros Tremopoulos",
      "userId": "18030826848297166341"
     },
     "user_tz": -120
    },
    "id": "xS6UsmJxAHrl",
    "outputId": "193a6ad4-adc7-46f3-af18-70dab415dfcc"
   },
   "outputs": [
    {
     "name": "stdout",
     "output_type": "stream",
     "text": [
      "80\n"
     ]
    },
    {
     "data": {
      "text/html": [
       "<div>\n",
       "<style scoped>\n",
       "    .dataframe tbody tr th:only-of-type {\n",
       "        vertical-align: middle;\n",
       "    }\n",
       "\n",
       "    .dataframe tbody tr th {\n",
       "        vertical-align: top;\n",
       "    }\n",
       "\n",
       "    .dataframe thead th {\n",
       "        text-align: right;\n",
       "    }\n",
       "</style>\n",
       "<table border=\"1\" class=\"dataframe\">\n",
       "  <thead>\n",
       "    <tr style=\"text-align: right;\">\n",
       "      <th></th>\n",
       "      <th>(district, STRING, None, None, None, None, None)</th>\n",
       "      <th>(neighbourhood, STRING, None, None, None, None, None)</th>\n",
       "      <th>(id, NUMBER, None, None, None, None, None)</th>\n",
       "    </tr>\n",
       "  </thead>\n",
       "  <tbody>\n",
       "    <tr>\n",
       "      <th>0</th>\n",
       "      <td>gracia</td>\n",
       "      <td>vila de gracia</td>\n",
       "      <td>1</td>\n",
       "    </tr>\n",
       "    <tr>\n",
       "      <th>1</th>\n",
       "      <td>sant marti</td>\n",
       "      <td>camp de l'arpa del clot</td>\n",
       "      <td>2</td>\n",
       "    </tr>\n",
       "    <tr>\n",
       "      <th>2</th>\n",
       "      <td>sants-montjuic</td>\n",
       "      <td>sants - badal</td>\n",
       "      <td>3</td>\n",
       "    </tr>\n",
       "    <tr>\n",
       "      <th>3</th>\n",
       "      <td>sarria-sant gervasi</td>\n",
       "      <td>el putget i farro</td>\n",
       "      <td>4</td>\n",
       "    </tr>\n",
       "    <tr>\n",
       "      <th>4</th>\n",
       "      <td>sarria-sant gervasi</td>\n",
       "      <td>sant gervasi - galvany</td>\n",
       "      <td>5</td>\n",
       "    </tr>\n",
       "  </tbody>\n",
       "</table>\n",
       "</div>"
      ],
      "text/plain": [
       "  (district, STRING, None, None, None, None, None)  \\\n",
       "0                                           gracia   \n",
       "1                                       sant marti   \n",
       "2                                   sants-montjuic   \n",
       "3                              sarria-sant gervasi   \n",
       "4                              sarria-sant gervasi   \n",
       "\n",
       "  (neighbourhood, STRING, None, None, None, None, None)  \\\n",
       "0                                     vila de gracia      \n",
       "1                            camp de l'arpa del clot      \n",
       "2                                      sants - badal      \n",
       "3                                  el putget i farro      \n",
       "4                             sant gervasi - galvany      \n",
       "\n",
       "   (id, NUMBER, None, None, None, None, None)  \n",
       "0                                           1  \n",
       "1                                           2  \n",
       "2                                           3  \n",
       "3                                           4  \n",
       "4                                           5  "
      ]
     },
     "execution_count": 21,
     "metadata": {},
     "output_type": "execute_result"
    }
   ],
   "source": [
    "# store the table in a dataframe.\n",
    "table_name = 'area'\n",
    "\n",
    "query = f\"SELECT * FROM {table_name}\"\n",
    "\n",
    "# Execute the SQL query\n",
    "result = con.execute(query)\n",
    "\n",
    "# Convert the result to a Pandas DataFrame\n",
    "table_areas = pd.DataFrame(result.fetchall(), columns=result.description)\n",
    "print(len(table_areas))\n",
    "table_areas.head()"
   ]
  },
  {
   "cell_type": "code",
   "execution_count": 22,
   "metadata": {
    "colab": {
     "base_uri": "https://localhost:8080/",
     "height": 206
    },
    "executionInfo": {
     "elapsed": 4,
     "status": "ok",
     "timestamp": 1698424729299,
     "user": {
      "displayName": "Alexandros Tremopoulos",
      "userId": "18030826848297166341"
     },
     "user_tz": -120
    },
    "id": "GukCfYRJAHt2",
    "outputId": "e37851a8-5a36-4dd7-d7b5-fa5f71d9098f"
   },
   "outputs": [
    {
     "data": {
      "text/html": [
       "<div>\n",
       "<style scoped>\n",
       "    .dataframe tbody tr th:only-of-type {\n",
       "        vertical-align: middle;\n",
       "    }\n",
       "\n",
       "    .dataframe tbody tr th {\n",
       "        vertical-align: top;\n",
       "    }\n",
       "\n",
       "    .dataframe thead th {\n",
       "        text-align: right;\n",
       "    }\n",
       "</style>\n",
       "<table border=\"1\" class=\"dataframe\">\n",
       "  <thead>\n",
       "    <tr style=\"text-align: right;\">\n",
       "      <th></th>\n",
       "      <th>District</th>\n",
       "      <th>Neighbourhood</th>\n",
       "      <th>ID</th>\n",
       "    </tr>\n",
       "  </thead>\n",
       "  <tbody>\n",
       "    <tr>\n",
       "      <th>0</th>\n",
       "      <td>gracia</td>\n",
       "      <td>vila de gracia</td>\n",
       "      <td>1</td>\n",
       "    </tr>\n",
       "    <tr>\n",
       "      <th>1</th>\n",
       "      <td>sant marti</td>\n",
       "      <td>camp de l'arpa del clot</td>\n",
       "      <td>2</td>\n",
       "    </tr>\n",
       "    <tr>\n",
       "      <th>2</th>\n",
       "      <td>sants-montjuic</td>\n",
       "      <td>sants - badal</td>\n",
       "      <td>3</td>\n",
       "    </tr>\n",
       "    <tr>\n",
       "      <th>3</th>\n",
       "      <td>sarria-sant gervasi</td>\n",
       "      <td>el putget i farro</td>\n",
       "      <td>4</td>\n",
       "    </tr>\n",
       "    <tr>\n",
       "      <th>4</th>\n",
       "      <td>sarria-sant gervasi</td>\n",
       "      <td>sant gervasi - galvany</td>\n",
       "      <td>5</td>\n",
       "    </tr>\n",
       "  </tbody>\n",
       "</table>\n",
       "</div>"
      ],
      "text/plain": [
       "              District            Neighbourhood  ID\n",
       "0               gracia           vila de gracia   1\n",
       "1           sant marti  camp de l'arpa del clot   2\n",
       "2       sants-montjuic            sants - badal   3\n",
       "3  sarria-sant gervasi        el putget i farro   4\n",
       "4  sarria-sant gervasi   sant gervasi - galvany   5"
      ]
     },
     "execution_count": 22,
     "metadata": {},
     "output_type": "execute_result"
    }
   ],
   "source": [
    "table_areas.columns = ['District', 'Neighbourhood', 'ID']\n",
    "table_areas.head()"
   ]
  },
  {
   "cell_type": "code",
   "execution_count": 23,
   "metadata": {
    "colab": {
     "base_uri": "https://localhost:8080/",
     "height": 162
    },
    "executionInfo": {
     "elapsed": 267,
     "status": "ok",
     "timestamp": 1698424735639,
     "user": {
      "displayName": "Alexandros Tremopoulos",
      "userId": "18030826848297166341"
     },
     "user_tz": -120
    },
    "id": "JpJr5AgWAH0s",
    "outputId": "f70d2ef2-7551-44c4-c54e-46bbcc253e49"
   },
   "outputs": [
    {
     "name": "stdout",
     "output_type": "stream",
     "text": [
      "12\n"
     ]
    },
    {
     "data": {
      "text/html": [
       "<div>\n",
       "<style scoped>\n",
       "    .dataframe tbody tr th:only-of-type {\n",
       "        vertical-align: middle;\n",
       "    }\n",
       "\n",
       "    .dataframe tbody tr th {\n",
       "        vertical-align: top;\n",
       "    }\n",
       "\n",
       "    .dataframe thead th {\n",
       "        text-align: right;\n",
       "    }\n",
       "</style>\n",
       "<table border=\"1\" class=\"dataframe\">\n",
       "  <thead>\n",
       "    <tr style=\"text-align: right;\">\n",
       "      <th></th>\n",
       "      <th>(id, NUMBER, None, None, None, None, None)</th>\n",
       "      <th>(trimester, NUMBER, None, None, None, None, None)</th>\n",
       "      <th>(year, NUMBER, None, None, None, None, None)</th>\n",
       "    </tr>\n",
       "  </thead>\n",
       "  <tbody>\n",
       "    <tr>\n",
       "      <th>0</th>\n",
       "      <td>1</td>\n",
       "      <td>1</td>\n",
       "      <td>2018</td>\n",
       "    </tr>\n",
       "    <tr>\n",
       "      <th>1</th>\n",
       "      <td>2</td>\n",
       "      <td>2</td>\n",
       "      <td>2018</td>\n",
       "    </tr>\n",
       "    <tr>\n",
       "      <th>2</th>\n",
       "      <td>3</td>\n",
       "      <td>3</td>\n",
       "      <td>2018</td>\n",
       "    </tr>\n",
       "    <tr>\n",
       "      <th>3</th>\n",
       "      <td>4</td>\n",
       "      <td>4</td>\n",
       "      <td>2018</td>\n",
       "    </tr>\n",
       "    <tr>\n",
       "      <th>4</th>\n",
       "      <td>5</td>\n",
       "      <td>1</td>\n",
       "      <td>2019</td>\n",
       "    </tr>\n",
       "  </tbody>\n",
       "</table>\n",
       "</div>"
      ],
      "text/plain": [
       "   (id, NUMBER, None, None, None, None, None)  \\\n",
       "0                                           1   \n",
       "1                                           2   \n",
       "2                                           3   \n",
       "3                                           4   \n",
       "4                                           5   \n",
       "\n",
       "   (trimester, NUMBER, None, None, None, None, None)  \\\n",
       "0                                                  1   \n",
       "1                                                  2   \n",
       "2                                                  3   \n",
       "3                                                  4   \n",
       "4                                                  1   \n",
       "\n",
       "   (year, NUMBER, None, None, None, None, None)  \n",
       "0                                          2018  \n",
       "1                                          2018  \n",
       "2                                          2018  \n",
       "3                                          2018  \n",
       "4                                          2019  "
      ]
     },
     "execution_count": 23,
     "metadata": {},
     "output_type": "execute_result"
    }
   ],
   "source": [
    "# convert time table in a dataframe as well\n",
    "table_name = 'trimester'\n",
    "\n",
    "query = f\"SELECT * FROM {table_name}\"\n",
    "\n",
    "# Execute the SQL query\n",
    "result = con.execute(query)\n",
    "\n",
    "# Convert the result to a Pandas DataFrame\n",
    "table_trim = pd.DataFrame(result.fetchall(), columns=result.description)\n",
    "print(len(table_trim))\n",
    "table_trim.head()"
   ]
  },
  {
   "cell_type": "code",
   "execution_count": 24,
   "metadata": {
    "colab": {
     "base_uri": "https://localhost:8080/",
     "height": 143
    },
    "executionInfo": {
     "elapsed": 5,
     "status": "ok",
     "timestamp": 1698424742484,
     "user": {
      "displayName": "Alexandros Tremopoulos",
      "userId": "18030826848297166341"
     },
     "user_tz": -120
    },
    "id": "9Lgg2MjwAH--",
    "outputId": "a17e52b8-4d94-40b9-bd54-bd95afcf4d68"
   },
   "outputs": [
    {
     "data": {
      "text/html": [
       "<div>\n",
       "<style scoped>\n",
       "    .dataframe tbody tr th:only-of-type {\n",
       "        vertical-align: middle;\n",
       "    }\n",
       "\n",
       "    .dataframe tbody tr th {\n",
       "        vertical-align: top;\n",
       "    }\n",
       "\n",
       "    .dataframe thead th {\n",
       "        text-align: right;\n",
       "    }\n",
       "</style>\n",
       "<table border=\"1\" class=\"dataframe\">\n",
       "  <thead>\n",
       "    <tr style=\"text-align: right;\">\n",
       "      <th></th>\n",
       "      <th>ID</th>\n",
       "      <th>Trimester</th>\n",
       "      <th>Year</th>\n",
       "    </tr>\n",
       "  </thead>\n",
       "  <tbody>\n",
       "    <tr>\n",
       "      <th>0</th>\n",
       "      <td>1</td>\n",
       "      <td>1</td>\n",
       "      <td>2018</td>\n",
       "    </tr>\n",
       "    <tr>\n",
       "      <th>1</th>\n",
       "      <td>2</td>\n",
       "      <td>2</td>\n",
       "      <td>2018</td>\n",
       "    </tr>\n",
       "    <tr>\n",
       "      <th>2</th>\n",
       "      <td>3</td>\n",
       "      <td>3</td>\n",
       "      <td>2018</td>\n",
       "    </tr>\n",
       "    <tr>\n",
       "      <th>3</th>\n",
       "      <td>4</td>\n",
       "      <td>4</td>\n",
       "      <td>2018</td>\n",
       "    </tr>\n",
       "    <tr>\n",
       "      <th>4</th>\n",
       "      <td>5</td>\n",
       "      <td>1</td>\n",
       "      <td>2019</td>\n",
       "    </tr>\n",
       "  </tbody>\n",
       "</table>\n",
       "</div>"
      ],
      "text/plain": [
       "   ID  Trimester  Year\n",
       "0   1          1  2018\n",
       "1   2          2  2018\n",
       "2   3          3  2018\n",
       "3   4          4  2018\n",
       "4   5          1  2019"
      ]
     },
     "execution_count": 24,
     "metadata": {},
     "output_type": "execute_result"
    }
   ],
   "source": [
    "table_trim.columns = ['ID', 'Trimester', 'Year']\n",
    "table_trim.head()"
   ]
  },
  {
   "cell_type": "code",
   "execution_count": 25,
   "metadata": {},
   "outputs": [
    {
     "name": "stdout",
     "output_type": "stream",
     "text": [
      "3\n"
     ]
    },
    {
     "data": {
      "text/html": [
       "<div>\n",
       "<style scoped>\n",
       "    .dataframe tbody tr th:only-of-type {\n",
       "        vertical-align: middle;\n",
       "    }\n",
       "\n",
       "    .dataframe tbody tr th {\n",
       "        vertical-align: top;\n",
       "    }\n",
       "\n",
       "    .dataframe thead th {\n",
       "        text-align: right;\n",
       "    }\n",
       "</style>\n",
       "<table border=\"1\" class=\"dataframe\">\n",
       "  <thead>\n",
       "    <tr style=\"text-align: right;\">\n",
       "      <th></th>\n",
       "      <th>(id, NUMBER, None, None, None, None, None)</th>\n",
       "      <th>(year, NUMBER, None, None, None, None, None)</th>\n",
       "    </tr>\n",
       "  </thead>\n",
       "  <tbody>\n",
       "    <tr>\n",
       "      <th>0</th>\n",
       "      <td>1</td>\n",
       "      <td>2018</td>\n",
       "    </tr>\n",
       "    <tr>\n",
       "      <th>1</th>\n",
       "      <td>2</td>\n",
       "      <td>2019</td>\n",
       "    </tr>\n",
       "    <tr>\n",
       "      <th>2</th>\n",
       "      <td>3</td>\n",
       "      <td>2020</td>\n",
       "    </tr>\n",
       "  </tbody>\n",
       "</table>\n",
       "</div>"
      ],
      "text/plain": [
       "   (id, NUMBER, None, None, None, None, None)  \\\n",
       "0                                           1   \n",
       "1                                           2   \n",
       "2                                           3   \n",
       "\n",
       "   (year, NUMBER, None, None, None, None, None)  \n",
       "0                                          2018  \n",
       "1                                          2019  \n",
       "2                                          2020  "
      ]
     },
     "execution_count": 25,
     "metadata": {},
     "output_type": "execute_result"
    }
   ],
   "source": [
    "# convert time table in a dataframe as well\n",
    "table_name = 'year'\n",
    "\n",
    "query = f\"SELECT * FROM {table_name}\"\n",
    "\n",
    "# Execute the SQL query\n",
    "result = con.execute(query)\n",
    "\n",
    "# Convert the result to a Pandas DataFrame\n",
    "table_year = pd.DataFrame(result.fetchall(), columns=result.description)\n",
    "print(len(table_year))\n",
    "table_year.head()"
   ]
  },
  {
   "cell_type": "code",
   "execution_count": 26,
   "metadata": {},
   "outputs": [
    {
     "data": {
      "text/html": [
       "<div>\n",
       "<style scoped>\n",
       "    .dataframe tbody tr th:only-of-type {\n",
       "        vertical-align: middle;\n",
       "    }\n",
       "\n",
       "    .dataframe tbody tr th {\n",
       "        vertical-align: top;\n",
       "    }\n",
       "\n",
       "    .dataframe thead th {\n",
       "        text-align: right;\n",
       "    }\n",
       "</style>\n",
       "<table border=\"1\" class=\"dataframe\">\n",
       "  <thead>\n",
       "    <tr style=\"text-align: right;\">\n",
       "      <th></th>\n",
       "      <th>ID</th>\n",
       "      <th>Year</th>\n",
       "    </tr>\n",
       "  </thead>\n",
       "  <tbody>\n",
       "    <tr>\n",
       "      <th>0</th>\n",
       "      <td>1</td>\n",
       "      <td>2018</td>\n",
       "    </tr>\n",
       "    <tr>\n",
       "      <th>1</th>\n",
       "      <td>2</td>\n",
       "      <td>2019</td>\n",
       "    </tr>\n",
       "    <tr>\n",
       "      <th>2</th>\n",
       "      <td>3</td>\n",
       "      <td>2020</td>\n",
       "    </tr>\n",
       "  </tbody>\n",
       "</table>\n",
       "</div>"
      ],
      "text/plain": [
       "   ID  Year\n",
       "0   1  2018\n",
       "1   2  2019\n",
       "2   3  2020"
      ]
     },
     "execution_count": 26,
     "metadata": {},
     "output_type": "execute_result"
    }
   ],
   "source": [
    "table_year.columns = ['ID','Year']\n",
    "table_year.head()"
   ]
  },
  {
   "cell_type": "markdown",
   "metadata": {
    "id": "hV6edhmyAPe_"
   },
   "source": [
    "These two tables were converted to dataframes so they can be merged with other dataframes which can use 'area' and 'time' primary keys as foreign keys. Here, we merge the 'area' table to the rents table on 'District' and 'Neighbourhood', so rents can have the \"AreaID\"."
   ]
  },
  {
   "cell_type": "code",
   "execution_count": 27,
   "metadata": {
    "id": "diezNoU6AP8R"
   },
   "outputs": [],
   "source": [
    "result_df = pd.merge(df_rents, table_areas[['District',\t'Neighbourhood','ID']], on=['District',\t'Neighbourhood'], how='left')"
   ]
  },
  {
   "cell_type": "code",
   "execution_count": 28,
   "metadata": {
    "id": "hgZFqdaCAP-7"
   },
   "outputs": [],
   "source": [
    "result_df.rename(columns={'ID': 'AreaID'}, inplace=True)"
   ]
  },
  {
   "cell_type": "code",
   "execution_count": 29,
   "metadata": {
    "colab": {
     "base_uri": "https://localhost:8080/",
     "height": 206
    },
    "executionInfo": {
     "elapsed": 343,
     "status": "ok",
     "timestamp": 1698424767040,
     "user": {
      "displayName": "Alexandros Tremopoulos",
      "userId": "18030826848297166341"
     },
     "user_tz": -120
    },
    "id": "CfJgrh8dAQOX",
    "outputId": "235a2e37-b78b-4717-8e1b-20875921df3b"
   },
   "outputs": [
    {
     "data": {
      "text/html": [
       "<div>\n",
       "<style scoped>\n",
       "    .dataframe tbody tr th:only-of-type {\n",
       "        vertical-align: middle;\n",
       "    }\n",
       "\n",
       "    .dataframe tbody tr th {\n",
       "        vertical-align: top;\n",
       "    }\n",
       "\n",
       "    .dataframe thead th {\n",
       "        text-align: right;\n",
       "    }\n",
       "</style>\n",
       "<table border=\"1\" class=\"dataframe\">\n",
       "  <thead>\n",
       "    <tr style=\"text-align: right;\">\n",
       "      <th></th>\n",
       "      <th>Year</th>\n",
       "      <th>Trimester</th>\n",
       "      <th>District</th>\n",
       "      <th>Neighbourhood</th>\n",
       "      <th>Price</th>\n",
       "      <th>AreaID</th>\n",
       "    </tr>\n",
       "  </thead>\n",
       "  <tbody>\n",
       "    <tr>\n",
       "      <th>0</th>\n",
       "      <td>2018</td>\n",
       "      <td>1</td>\n",
       "      <td>ciutat vella</td>\n",
       "      <td>el raval</td>\n",
       "      <td>792.74</td>\n",
       "      <td>8</td>\n",
       "    </tr>\n",
       "    <tr>\n",
       "      <th>1</th>\n",
       "      <td>2018</td>\n",
       "      <td>1</td>\n",
       "      <td>ciutat vella</td>\n",
       "      <td>el gotic</td>\n",
       "      <td>998.40</td>\n",
       "      <td>7</td>\n",
       "    </tr>\n",
       "    <tr>\n",
       "      <th>2</th>\n",
       "      <td>2018</td>\n",
       "      <td>1</td>\n",
       "      <td>ciutat vella</td>\n",
       "      <td>la barceloneta</td>\n",
       "      <td>870.84</td>\n",
       "      <td>9</td>\n",
       "    </tr>\n",
       "    <tr>\n",
       "      <th>3</th>\n",
       "      <td>2018</td>\n",
       "      <td>1</td>\n",
       "      <td>ciutat vella</td>\n",
       "      <td>sant pere, santa caterina i la ribera</td>\n",
       "      <td>923.44</td>\n",
       "      <td>10</td>\n",
       "    </tr>\n",
       "    <tr>\n",
       "      <th>4</th>\n",
       "      <td>2018</td>\n",
       "      <td>1</td>\n",
       "      <td>eixample</td>\n",
       "      <td>el fort pienc</td>\n",
       "      <td>910.53</td>\n",
       "      <td>11</td>\n",
       "    </tr>\n",
       "  </tbody>\n",
       "</table>\n",
       "</div>"
      ],
      "text/plain": [
       "   Year  Trimester      District                          Neighbourhood  \\\n",
       "0  2018          1  ciutat vella                               el raval   \n",
       "1  2018          1  ciutat vella                               el gotic   \n",
       "2  2018          1  ciutat vella                         la barceloneta   \n",
       "3  2018          1  ciutat vella  sant pere, santa caterina i la ribera   \n",
       "4  2018          1      eixample                          el fort pienc   \n",
       "\n",
       "    Price  AreaID  \n",
       "0  792.74       8  \n",
       "1  998.40       7  \n",
       "2  870.84       9  \n",
       "3  923.44      10  \n",
       "4  910.53      11  "
      ]
     },
     "execution_count": 29,
     "metadata": {},
     "output_type": "execute_result"
    }
   ],
   "source": [
    "result_df.head()"
   ]
  },
  {
   "cell_type": "markdown",
   "metadata": {
    "id": "LA0unwV-AVcO"
   },
   "source": [
    "Do a smilar merge for 'time' table and 'rents' table to store the 'YearID' as well. At the end create a table that only has rent, areaID and yearID"
   ]
  },
  {
   "cell_type": "code",
   "execution_count": 30,
   "metadata": {
    "id": "dzhhJTgLAQQ-"
   },
   "outputs": [],
   "source": [
    "result_df = pd.merge(result_df, table_trim[['Year','Trimester','ID']], on=['Year','Trimester'], how='left')"
   ]
  },
  {
   "cell_type": "code",
   "execution_count": 31,
   "metadata": {
    "id": "cNR6pFU1AXti"
   },
   "outputs": [],
   "source": [
    "result_df.rename(columns={'ID': 'TrimesterID'}, inplace=True)"
   ]
  },
  {
   "cell_type": "code",
   "execution_count": 32,
   "metadata": {
    "colab": {
     "base_uri": "https://localhost:8080/",
     "height": 298
    },
    "executionInfo": {
     "elapsed": 9,
     "status": "ok",
     "timestamp": 1698424792671,
     "user": {
      "displayName": "Alexandros Tremopoulos",
      "userId": "18030826848297166341"
     },
     "user_tz": -120
    },
    "id": "4YN4sGvBAXv3",
    "outputId": "c38a7c1c-dff2-4963-931b-cc65903f92f6"
   },
   "outputs": [
    {
     "name": "stderr",
     "output_type": "stream",
     "text": [
      "<ipython-input-32-6496437fa23c>:2: SettingWithCopyWarning: \n",
      "A value is trying to be set on a copy of a slice from a DataFrame\n",
      "\n",
      "See the caveats in the documentation: https://pandas.pydata.org/pandas-docs/stable/user_guide/indexing.html#returning-a-view-versus-a-copy\n",
      "  area_table.rename(columns={'Price': 'Avg_Rent'}, inplace=True)\n"
     ]
    },
    {
     "data": {
      "text/html": [
       "<div>\n",
       "<style scoped>\n",
       "    .dataframe tbody tr th:only-of-type {\n",
       "        vertical-align: middle;\n",
       "    }\n",
       "\n",
       "    .dataframe tbody tr th {\n",
       "        vertical-align: top;\n",
       "    }\n",
       "\n",
       "    .dataframe thead th {\n",
       "        text-align: right;\n",
       "    }\n",
       "</style>\n",
       "<table border=\"1\" class=\"dataframe\">\n",
       "  <thead>\n",
       "    <tr style=\"text-align: right;\">\n",
       "      <th></th>\n",
       "      <th>Avg_Rent</th>\n",
       "      <th>AreaID</th>\n",
       "      <th>TrimesterID</th>\n",
       "    </tr>\n",
       "  </thead>\n",
       "  <tbody>\n",
       "    <tr>\n",
       "      <th>0</th>\n",
       "      <td>792.74</td>\n",
       "      <td>8</td>\n",
       "      <td>1</td>\n",
       "    </tr>\n",
       "    <tr>\n",
       "      <th>1</th>\n",
       "      <td>998.40</td>\n",
       "      <td>7</td>\n",
       "      <td>1</td>\n",
       "    </tr>\n",
       "    <tr>\n",
       "      <th>2</th>\n",
       "      <td>870.84</td>\n",
       "      <td>9</td>\n",
       "      <td>1</td>\n",
       "    </tr>\n",
       "    <tr>\n",
       "      <th>3</th>\n",
       "      <td>923.44</td>\n",
       "      <td>10</td>\n",
       "      <td>1</td>\n",
       "    </tr>\n",
       "    <tr>\n",
       "      <th>4</th>\n",
       "      <td>910.53</td>\n",
       "      <td>11</td>\n",
       "      <td>1</td>\n",
       "    </tr>\n",
       "  </tbody>\n",
       "</table>\n",
       "</div>"
      ],
      "text/plain": [
       "   Avg_Rent  AreaID  TrimesterID\n",
       "0    792.74       8            1\n",
       "1    998.40       7            1\n",
       "2    870.84       9            1\n",
       "3    923.44      10            1\n",
       "4    910.53      11            1"
      ]
     },
     "execution_count": 32,
     "metadata": {},
     "output_type": "execute_result"
    }
   ],
   "source": [
    "area_table = result_df[['Price', 'AreaID', 'TrimesterID']]\n",
    "area_table.rename(columns={'Price': 'Avg_Rent'}, inplace=True)\n",
    "area_table.head()"
   ]
  },
  {
   "cell_type": "markdown",
   "metadata": {
    "id": "UXihEQv4Abl-"
   },
   "source": [
    "The dataframe with rent, areaId and yearID is passed as a table in the exploitation database with the name 'rents'. Add a column for the primary key as well."
   ]
  },
  {
   "cell_type": "code",
   "execution_count": 33,
   "metadata": {
    "colab": {
     "base_uri": "https://localhost:8080/"
    },
    "executionInfo": {
     "elapsed": 7,
     "status": "ok",
     "timestamp": 1698424805882,
     "user": {
      "displayName": "Alexandros Tremopoulos",
      "userId": "18030826848297166341"
     },
     "user_tz": -120
    },
    "id": "bMnIC2DAAXyg",
    "outputId": "03bf217d-2de5-4fde-dbac-6751079eea8b"
   },
   "outputs": [
    {
     "data": {
      "text/plain": [
       "<duckdb.DuckDBPyConnection at 0x23a2840e8b0>"
      ]
     },
     "execution_count": 33,
     "metadata": {},
     "output_type": "execute_result"
    }
   ],
   "source": [
    "table_name = 'rent'\n",
    "\n",
    "query = f'CREATE TABLE {table_name} (avg_rent DECIMAL, AreaID INTEGER, TrimesterID INTEGER);'\n",
    "con.execute(query)\n",
    "con.execute(f\"INSERT INTO {table_name} SELECT Avg_Rent, AreaID, TrimesterID FROM area_table\")"
   ]
  },
  {
   "cell_type": "code",
   "execution_count": 34,
   "metadata": {
    "colab": {
     "base_uri": "https://localhost:8080/"
    },
    "executionInfo": {
     "elapsed": 3,
     "status": "ok",
     "timestamp": 1698424809865,
     "user": {
      "displayName": "Alexandros Tremopoulos",
      "userId": "18030826848297166341"
     },
     "user_tz": -120
    },
    "id": "Z9MDEvQtAX1I",
    "outputId": "5c3b240e-f29e-4417-a886-9a3451f8a918"
   },
   "outputs": [
    {
     "data": {
      "text/plain": [
       "<duckdb.DuckDBPyConnection at 0x23a2840e8b0>"
      ]
     },
     "execution_count": 34,
     "metadata": {},
     "output_type": "execute_result"
    }
   ],
   "source": [
    "alter_query = f'ALTER TABLE {table_name} ADD id INTEGER;'\n",
    "con.execute(alter_query)\n",
    "update_query = f'UPDATE {table_name} SET id = rowid +1;'\n",
    "con.execute(update_query)"
   ]
  },
  {
   "cell_type": "markdown",
   "metadata": {
    "id": "o3QZNR2_AgDH"
   },
   "source": [
    "Something similar needs to be done for a new income table in the exploitation database. Again merge, 'area' and 'time' table in the income dataframe we have from before. Then only keep a dataframe, with 'Seccio_Censal', 'Income', 'AreaID' and 'YearID'."
   ]
  },
  {
   "cell_type": "code",
   "execution_count": 35,
   "metadata": {
    "colab": {
     "base_uri": "https://localhost:8080/",
     "height": 206
    },
    "executionInfo": {
     "elapsed": 6,
     "status": "ok",
     "timestamp": 1698424823923,
     "user": {
      "displayName": "Alexandros Tremopoulos",
      "userId": "18030826848297166341"
     },
     "user_tz": -120
    },
    "id": "d8CrT_JMAgpg",
    "outputId": "5d522ed3-0167-4332-d427-3cf5d44b5916"
   },
   "outputs": [
    {
     "data": {
      "text/html": [
       "<div>\n",
       "<style scoped>\n",
       "    .dataframe tbody tr th:only-of-type {\n",
       "        vertical-align: middle;\n",
       "    }\n",
       "\n",
       "    .dataframe tbody tr th {\n",
       "        vertical-align: top;\n",
       "    }\n",
       "\n",
       "    .dataframe thead th {\n",
       "        text-align: right;\n",
       "    }\n",
       "</style>\n",
       "<table border=\"1\" class=\"dataframe\">\n",
       "  <thead>\n",
       "    <tr style=\"text-align: right;\">\n",
       "      <th></th>\n",
       "      <th>Any</th>\n",
       "      <th>Nom_Districte</th>\n",
       "      <th>Nom_Barri</th>\n",
       "      <th>Import_Renda_Bruta_</th>\n",
       "    </tr>\n",
       "  </thead>\n",
       "  <tbody>\n",
       "    <tr>\n",
       "      <th>0</th>\n",
       "      <td>2018</td>\n",
       "      <td>ciutat vella</td>\n",
       "      <td>el gotic</td>\n",
       "      <td>15882.444444</td>\n",
       "    </tr>\n",
       "    <tr>\n",
       "      <th>1</th>\n",
       "      <td>2018</td>\n",
       "      <td>ciutat vella</td>\n",
       "      <td>el raval</td>\n",
       "      <td>11238.095238</td>\n",
       "    </tr>\n",
       "    <tr>\n",
       "      <th>2</th>\n",
       "      <td>2018</td>\n",
       "      <td>ciutat vella</td>\n",
       "      <td>la barceloneta</td>\n",
       "      <td>14431.090909</td>\n",
       "    </tr>\n",
       "    <tr>\n",
       "      <th>3</th>\n",
       "      <td>2018</td>\n",
       "      <td>ciutat vella</td>\n",
       "      <td>sant pere, santa caterina i la ribera</td>\n",
       "      <td>16840.307692</td>\n",
       "    </tr>\n",
       "    <tr>\n",
       "      <th>4</th>\n",
       "      <td>2018</td>\n",
       "      <td>eixample</td>\n",
       "      <td>el fort pienc</td>\n",
       "      <td>21270.550000</td>\n",
       "    </tr>\n",
       "  </tbody>\n",
       "</table>\n",
       "</div>"
      ],
      "text/plain": [
       "    Any Nom_Districte                              Nom_Barri  \\\n",
       "0  2018  ciutat vella                               el gotic   \n",
       "1  2018  ciutat vella                               el raval   \n",
       "2  2018  ciutat vella                         la barceloneta   \n",
       "3  2018  ciutat vella  sant pere, santa caterina i la ribera   \n",
       "4  2018      eixample                          el fort pienc   \n",
       "\n",
       "   Import_Renda_Bruta_  \n",
       "0         15882.444444  \n",
       "1         11238.095238  \n",
       "2         14431.090909  \n",
       "3         16840.307692  \n",
       "4         21270.550000  "
      ]
     },
     "execution_count": 35,
     "metadata": {},
     "output_type": "execute_result"
    }
   ],
   "source": [
    "df_income.head()"
   ]
  },
  {
   "cell_type": "code",
   "execution_count": 36,
   "metadata": {
    "id": "hK_VGMevAgsH"
   },
   "outputs": [],
   "source": [
    "df_income.rename(columns={'Nom_Districte': 'District', 'Nom_Barri': 'Neighbourhood'}, inplace=True)"
   ]
  },
  {
   "cell_type": "code",
   "execution_count": 37,
   "metadata": {
    "colab": {
     "base_uri": "https://localhost:8080/",
     "height": 206
    },
    "executionInfo": {
     "elapsed": 4,
     "status": "ok",
     "timestamp": 1698424833903,
     "user": {
      "displayName": "Alexandros Tremopoulos",
      "userId": "18030826848297166341"
     },
     "user_tz": -120
    },
    "id": "4M_mMrY5Agup",
    "outputId": "439fca86-8d3c-4392-9202-587bd9455bc9"
   },
   "outputs": [
    {
     "data": {
      "text/html": [
       "<div>\n",
       "<style scoped>\n",
       "    .dataframe tbody tr th:only-of-type {\n",
       "        vertical-align: middle;\n",
       "    }\n",
       "\n",
       "    .dataframe tbody tr th {\n",
       "        vertical-align: top;\n",
       "    }\n",
       "\n",
       "    .dataframe thead th {\n",
       "        text-align: right;\n",
       "    }\n",
       "</style>\n",
       "<table border=\"1\" class=\"dataframe\">\n",
       "  <thead>\n",
       "    <tr style=\"text-align: right;\">\n",
       "      <th></th>\n",
       "      <th>Any</th>\n",
       "      <th>District</th>\n",
       "      <th>Neighbourhood</th>\n",
       "      <th>Import_Renda_Bruta_</th>\n",
       "      <th>AreaID</th>\n",
       "    </tr>\n",
       "  </thead>\n",
       "  <tbody>\n",
       "    <tr>\n",
       "      <th>0</th>\n",
       "      <td>2018</td>\n",
       "      <td>ciutat vella</td>\n",
       "      <td>el gotic</td>\n",
       "      <td>15882.444444</td>\n",
       "      <td>7</td>\n",
       "    </tr>\n",
       "    <tr>\n",
       "      <th>1</th>\n",
       "      <td>2018</td>\n",
       "      <td>ciutat vella</td>\n",
       "      <td>el raval</td>\n",
       "      <td>11238.095238</td>\n",
       "      <td>8</td>\n",
       "    </tr>\n",
       "    <tr>\n",
       "      <th>2</th>\n",
       "      <td>2018</td>\n",
       "      <td>ciutat vella</td>\n",
       "      <td>la barceloneta</td>\n",
       "      <td>14431.090909</td>\n",
       "      <td>9</td>\n",
       "    </tr>\n",
       "    <tr>\n",
       "      <th>3</th>\n",
       "      <td>2018</td>\n",
       "      <td>ciutat vella</td>\n",
       "      <td>sant pere, santa caterina i la ribera</td>\n",
       "      <td>16840.307692</td>\n",
       "      <td>10</td>\n",
       "    </tr>\n",
       "    <tr>\n",
       "      <th>4</th>\n",
       "      <td>2018</td>\n",
       "      <td>eixample</td>\n",
       "      <td>el fort pienc</td>\n",
       "      <td>21270.550000</td>\n",
       "      <td>11</td>\n",
       "    </tr>\n",
       "  </tbody>\n",
       "</table>\n",
       "</div>"
      ],
      "text/plain": [
       "    Any      District                          Neighbourhood  \\\n",
       "0  2018  ciutat vella                               el gotic   \n",
       "1  2018  ciutat vella                               el raval   \n",
       "2  2018  ciutat vella                         la barceloneta   \n",
       "3  2018  ciutat vella  sant pere, santa caterina i la ribera   \n",
       "4  2018      eixample                          el fort pienc   \n",
       "\n",
       "   Import_Renda_Bruta_  AreaID  \n",
       "0         15882.444444       7  \n",
       "1         11238.095238       8  \n",
       "2         14431.090909       9  \n",
       "3         16840.307692      10  \n",
       "4         21270.550000      11  "
      ]
     },
     "execution_count": 37,
     "metadata": {},
     "output_type": "execute_result"
    }
   ],
   "source": [
    "result_df = pd.merge(df_income, table_areas[['District','Neighbourhood','ID']], on=['District',\t'Neighbourhood'], how='left')\n",
    "result_df.rename(columns={'ID': 'AreaID'}, inplace=True)\n",
    "result_df.head()"
   ]
  },
  {
   "cell_type": "code",
   "execution_count": 38,
   "metadata": {
    "id": "vUPpAtJUAkp3"
   },
   "outputs": [],
   "source": [
    "result_df.rename(columns={'Any': 'Year'}, inplace=True)"
   ]
  },
  {
   "cell_type": "code",
   "execution_count": 39,
   "metadata": {
    "colab": {
     "base_uri": "https://localhost:8080/",
     "height": 206
    },
    "executionInfo": {
     "elapsed": 8,
     "status": "ok",
     "timestamp": 1698424846164,
     "user": {
      "displayName": "Alexandros Tremopoulos",
      "userId": "18030826848297166341"
     },
     "user_tz": -120
    },
    "id": "yBtpy2uLAksY",
    "outputId": "7b0ea590-dc90-4bf1-a40b-90043f5c00e5"
   },
   "outputs": [
    {
     "data": {
      "text/html": [
       "<div>\n",
       "<style scoped>\n",
       "    .dataframe tbody tr th:only-of-type {\n",
       "        vertical-align: middle;\n",
       "    }\n",
       "\n",
       "    .dataframe tbody tr th {\n",
       "        vertical-align: top;\n",
       "    }\n",
       "\n",
       "    .dataframe thead th {\n",
       "        text-align: right;\n",
       "    }\n",
       "</style>\n",
       "<table border=\"1\" class=\"dataframe\">\n",
       "  <thead>\n",
       "    <tr style=\"text-align: right;\">\n",
       "      <th></th>\n",
       "      <th>Year</th>\n",
       "      <th>District</th>\n",
       "      <th>Neighbourhood</th>\n",
       "      <th>Import_Renda_Bruta_</th>\n",
       "      <th>AreaID</th>\n",
       "      <th>YearID</th>\n",
       "    </tr>\n",
       "  </thead>\n",
       "  <tbody>\n",
       "    <tr>\n",
       "      <th>0</th>\n",
       "      <td>2018</td>\n",
       "      <td>ciutat vella</td>\n",
       "      <td>el gotic</td>\n",
       "      <td>15882.444444</td>\n",
       "      <td>7</td>\n",
       "      <td>1</td>\n",
       "    </tr>\n",
       "    <tr>\n",
       "      <th>1</th>\n",
       "      <td>2018</td>\n",
       "      <td>ciutat vella</td>\n",
       "      <td>el raval</td>\n",
       "      <td>11238.095238</td>\n",
       "      <td>8</td>\n",
       "      <td>1</td>\n",
       "    </tr>\n",
       "    <tr>\n",
       "      <th>2</th>\n",
       "      <td>2018</td>\n",
       "      <td>ciutat vella</td>\n",
       "      <td>la barceloneta</td>\n",
       "      <td>14431.090909</td>\n",
       "      <td>9</td>\n",
       "      <td>1</td>\n",
       "    </tr>\n",
       "    <tr>\n",
       "      <th>3</th>\n",
       "      <td>2018</td>\n",
       "      <td>ciutat vella</td>\n",
       "      <td>sant pere, santa caterina i la ribera</td>\n",
       "      <td>16840.307692</td>\n",
       "      <td>10</td>\n",
       "      <td>1</td>\n",
       "    </tr>\n",
       "    <tr>\n",
       "      <th>4</th>\n",
       "      <td>2018</td>\n",
       "      <td>eixample</td>\n",
       "      <td>el fort pienc</td>\n",
       "      <td>21270.550000</td>\n",
       "      <td>11</td>\n",
       "      <td>1</td>\n",
       "    </tr>\n",
       "  </tbody>\n",
       "</table>\n",
       "</div>"
      ],
      "text/plain": [
       "   Year      District                          Neighbourhood  \\\n",
       "0  2018  ciutat vella                               el gotic   \n",
       "1  2018  ciutat vella                               el raval   \n",
       "2  2018  ciutat vella                         la barceloneta   \n",
       "3  2018  ciutat vella  sant pere, santa caterina i la ribera   \n",
       "4  2018      eixample                          el fort pienc   \n",
       "\n",
       "   Import_Renda_Bruta_  AreaID  YearID  \n",
       "0         15882.444444       7       1  \n",
       "1         11238.095238       8       1  \n",
       "2         14431.090909       9       1  \n",
       "3         16840.307692      10       1  \n",
       "4         21270.550000      11       1  "
      ]
     },
     "execution_count": 39,
     "metadata": {},
     "output_type": "execute_result"
    }
   ],
   "source": [
    "result_df2 = pd.merge(result_df, table_year[['Year','ID']], on=['Year'], how='left')\n",
    "result_df2.rename(columns={'ID': 'YearID'}, inplace=True)\n",
    "result_df2.head()"
   ]
  },
  {
   "cell_type": "code",
   "execution_count": 40,
   "metadata": {
    "colab": {
     "base_uri": "https://localhost:8080/",
     "height": 298
    },
    "executionInfo": {
     "elapsed": 11,
     "status": "ok",
     "timestamp": 1698424851954,
     "user": {
      "displayName": "Alexandros Tremopoulos",
      "userId": "18030826848297166341"
     },
     "user_tz": -120
    },
    "id": "q0xPySxaAkun",
    "outputId": "fd5ce745-b0fa-426d-b0db-abfe6e54a447"
   },
   "outputs": [
    {
     "name": "stderr",
     "output_type": "stream",
     "text": [
      "<ipython-input-40-349b0c538585>:2: SettingWithCopyWarning: \n",
      "A value is trying to be set on a copy of a slice from a DataFrame\n",
      "\n",
      "See the caveats in the documentation: https://pandas.pydata.org/pandas-docs/stable/user_guide/indexing.html#returning-a-view-versus-a-copy\n",
      "  income_table.rename(columns={'Import_Renda_Bruta_': 'Income'}, inplace=True)\n"
     ]
    },
    {
     "data": {
      "text/html": [
       "<div>\n",
       "<style scoped>\n",
       "    .dataframe tbody tr th:only-of-type {\n",
       "        vertical-align: middle;\n",
       "    }\n",
       "\n",
       "    .dataframe tbody tr th {\n",
       "        vertical-align: top;\n",
       "    }\n",
       "\n",
       "    .dataframe thead th {\n",
       "        text-align: right;\n",
       "    }\n",
       "</style>\n",
       "<table border=\"1\" class=\"dataframe\">\n",
       "  <thead>\n",
       "    <tr style=\"text-align: right;\">\n",
       "      <th></th>\n",
       "      <th>Income</th>\n",
       "      <th>AreaID</th>\n",
       "      <th>YearID</th>\n",
       "    </tr>\n",
       "  </thead>\n",
       "  <tbody>\n",
       "    <tr>\n",
       "      <th>0</th>\n",
       "      <td>15882.444444</td>\n",
       "      <td>7</td>\n",
       "      <td>1</td>\n",
       "    </tr>\n",
       "    <tr>\n",
       "      <th>1</th>\n",
       "      <td>11238.095238</td>\n",
       "      <td>8</td>\n",
       "      <td>1</td>\n",
       "    </tr>\n",
       "    <tr>\n",
       "      <th>2</th>\n",
       "      <td>14431.090909</td>\n",
       "      <td>9</td>\n",
       "      <td>1</td>\n",
       "    </tr>\n",
       "    <tr>\n",
       "      <th>3</th>\n",
       "      <td>16840.307692</td>\n",
       "      <td>10</td>\n",
       "      <td>1</td>\n",
       "    </tr>\n",
       "    <tr>\n",
       "      <th>4</th>\n",
       "      <td>21270.550000</td>\n",
       "      <td>11</td>\n",
       "      <td>1</td>\n",
       "    </tr>\n",
       "  </tbody>\n",
       "</table>\n",
       "</div>"
      ],
      "text/plain": [
       "         Income  AreaID  YearID\n",
       "0  15882.444444       7       1\n",
       "1  11238.095238       8       1\n",
       "2  14431.090909       9       1\n",
       "3  16840.307692      10       1\n",
       "4  21270.550000      11       1"
      ]
     },
     "execution_count": 40,
     "metadata": {},
     "output_type": "execute_result"
    }
   ],
   "source": [
    "income_table = result_df2[['Import_Renda_Bruta_', 'AreaID', 'YearID']]\n",
    "income_table.rename(columns={'Import_Renda_Bruta_': 'Income'}, inplace=True)\n",
    "income_table.head()"
   ]
  },
  {
   "cell_type": "markdown",
   "metadata": {
    "id": "yzE1YHcBAqFX"
   },
   "source": [
    "Now that we kept a dataframe with the imporant columns, create an 'income' table in the exploitation databse and insert the values of this dataframe."
   ]
  },
  {
   "cell_type": "code",
   "execution_count": 41,
   "metadata": {
    "colab": {
     "base_uri": "https://localhost:8080/"
    },
    "executionInfo": {
     "elapsed": 362,
     "status": "ok",
     "timestamp": 1698424866318,
     "user": {
      "displayName": "Alexandros Tremopoulos",
      "userId": "18030826848297166341"
     },
     "user_tz": -120
    },
    "id": "GdIvoiy8Akww",
    "outputId": "1bd0c72b-8869-4059-c548-0bc1d75e5d8e"
   },
   "outputs": [
    {
     "data": {
      "text/plain": [
       "<duckdb.DuckDBPyConnection at 0x23a2840e8b0>"
      ]
     },
     "execution_count": 41,
     "metadata": {},
     "output_type": "execute_result"
    }
   ],
   "source": [
    "table_name = 'income'\n",
    "\n",
    "query = f'CREATE TABLE {table_name} (Income DECIMAL, AreaID INTEGER, YearID INTEGER);'\n",
    "con.execute(query)\n",
    "con.execute(f\"INSERT INTO {table_name} SELECT Income, AreaID, YearID FROM income_table\")"
   ]
  },
  {
   "cell_type": "code",
   "execution_count": 42,
   "metadata": {
    "id": "CbusXDT_Ate7"
   },
   "outputs": [
    {
     "data": {
      "text/plain": [
       "<duckdb.DuckDBPyConnection at 0x23a2840e8b0>"
      ]
     },
     "execution_count": 42,
     "metadata": {},
     "output_type": "execute_result"
    }
   ],
   "source": [
    "# Add one more column for the primaryID\n",
    "alter_query = f'ALTER TABLE {table_name} ADD id INTEGER;'\n",
    "con.execute(alter_query)\n",
    "update_query = f'UPDATE {table_name} SET id = rowid +1;'\n",
    "con.execute(update_query)"
   ]
  },
  {
   "cell_type": "markdown",
   "metadata": {
    "id": "9LBPvXhNAvyu"
   },
   "source": [
    "We have created 4 entity tables. Let's print them (first 5 rows) to see our results!"
   ]
  },
  {
   "cell_type": "code",
   "execution_count": 43,
   "metadata": {
    "colab": {
     "base_uri": "https://localhost:8080/"
    },
    "executionInfo": {
     "elapsed": 3,
     "status": "ok",
     "timestamp": 1698424887633,
     "user": {
      "displayName": "Alexandros Tremopoulos",
      "userId": "18030826848297166341"
     },
     "user_tz": -120
    },
    "id": "by6HiqhWAthc",
    "outputId": "93d3216d-6c6a-421d-9828-02791aa0977f"
   },
   "outputs": [
    {
     "name": "stdout",
     "output_type": "stream",
     "text": [
      "Table: area\n",
      "('gracia', 'vila de gracia', 1)\n",
      "('sant marti', \"camp de l'arpa del clot\", 2)\n",
      "('sants-montjuic', 'sants - badal', 3)\n",
      "('sarria-sant gervasi', 'el putget i farro', 4)\n",
      "('sarria-sant gervasi', 'sant gervasi - galvany', 5)\n",
      "\n",
      "\n",
      "Table: income\n",
      "(Decimal('15882.444'), 7, 1, 1)\n",
      "(Decimal('11238.095'), 8, 1, 2)\n",
      "(Decimal('14431.091'), 9, 1, 3)\n",
      "(Decimal('16840.308'), 10, 1, 4)\n",
      "(Decimal('21270.550'), 11, 1, 5)\n",
      "\n",
      "\n",
      "Table: rent\n",
      "(Decimal('792.740'), 8, 1, 1)\n",
      "(Decimal('998.400'), 7, 1, 2)\n",
      "(Decimal('870.840'), 9, 1, 3)\n",
      "(Decimal('923.440'), 10, 1, 4)\n",
      "(Decimal('910.530'), 11, 1, 5)\n",
      "\n",
      "\n",
      "Table: trimester\n",
      "(1, 1, 2018)\n",
      "(2, 2, 2018)\n",
      "(3, 3, 2018)\n",
      "(4, 4, 2018)\n",
      "(5, 1, 2019)\n",
      "\n",
      "\n",
      "Table: year\n",
      "(1, 2018)\n",
      "(2, 2019)\n",
      "(3, 2020)\n",
      "\n",
      "\n"
     ]
    }
   ],
   "source": [
    "result = con.execute('SHOW TABLES')\n",
    "tables = result.fetchall()\n",
    "\n",
    "# Iterate through the tables and select the first and last five rows from each table\n",
    "for table in tables:\n",
    "    table_name = table[0]\n",
    "    print(f\"Table: {table_name}\")\n",
    "\n",
    "    # Select the first five rows\n",
    "    select_first_query = f'SELECT * FROM {table_name} LIMIT 5'\n",
    "    result = con.execute(select_first_query)\n",
    "    first_rows = result.fetchall()\n",
    "\n",
    "    for row in first_rows:\n",
    "        print(row)\n",
    "\n",
    "    print(\"\\n\")"
   ]
  },
  {
   "cell_type": "code",
   "execution_count": 50,
   "metadata": {
    "id": "b8LNGJ9jAtjy"
   },
   "outputs": [],
   "source": [
    "con.close()"
   ]
  },
  {
   "cell_type": "markdown",
   "metadata": {
    "id": "quAu-F2rBRth"
   },
   "source": [
    "Print also the data types of each table"
   ]
  },
  {
   "cell_type": "code",
   "execution_count": 44,
   "metadata": {
    "colab": {
     "base_uri": "https://localhost:8080/"
    },
    "executionInfo": {
     "elapsed": 2,
     "status": "ok",
     "timestamp": 1698425227388,
     "user": {
      "displayName": "Alexandros Tremopoulos",
      "userId": "18030826848297166341"
     },
     "user_tz": -120
    },
    "id": "zU0oER_dB8RM",
    "outputId": "d5a7b542-e474-41f0-bb32-599de2093f72"
   },
   "outputs": [
    {
     "name": "stdout",
     "output_type": "stream",
     "text": [
      "Areas table:\n"
     ]
    },
    {
     "data": {
      "text/plain": [
       "District         object\n",
       "Neighbourhood    object\n",
       "ID                int64\n",
       "dtype: object"
      ]
     },
     "execution_count": 44,
     "metadata": {},
     "output_type": "execute_result"
    }
   ],
   "source": [
    "print('Areas table:')\n",
    "table_areas.dtypes"
   ]
  },
  {
   "cell_type": "code",
   "execution_count": 45,
   "metadata": {
    "colab": {
     "base_uri": "https://localhost:8080/"
    },
    "executionInfo": {
     "elapsed": 2,
     "status": "ok",
     "timestamp": 1698425252767,
     "user": {
      "displayName": "Alexandros Tremopoulos",
      "userId": "18030826848297166341"
     },
     "user_tz": -120
    },
    "id": "--T3mwSrB8pU",
    "outputId": "7e65b56f-0bf1-42b5-d1d1-1b99c896f2df"
   },
   "outputs": [
    {
     "name": "stdout",
     "output_type": "stream",
     "text": [
      "Trimester table:\n"
     ]
    },
    {
     "data": {
      "text/plain": [
       "ID           int64\n",
       "Trimester    int64\n",
       "Year         int64\n",
       "dtype: object"
      ]
     },
     "execution_count": 45,
     "metadata": {},
     "output_type": "execute_result"
    }
   ],
   "source": [
    "print('Trimester table:')\n",
    "table_trim.dtypes"
   ]
  },
  {
   "cell_type": "code",
   "execution_count": 46,
   "metadata": {
    "colab": {
     "base_uri": "https://localhost:8080/"
    },
    "executionInfo": {
     "elapsed": 256,
     "status": "ok",
     "timestamp": 1698425197588,
     "user": {
      "displayName": "Alexandros Tremopoulos",
      "userId": "18030826848297166341"
     },
     "user_tz": -120
    },
    "id": "Zq7m4I9dB8rg",
    "outputId": "725b2fc1-37d9-4a43-ad5f-528d4a0c766c"
   },
   "outputs": [
    {
     "name": "stdout",
     "output_type": "stream",
     "text": [
      "Rent table:\n"
     ]
    },
    {
     "data": {
      "text/plain": [
       "Avg_Rent       float64\n",
       "AreaID           int64\n",
       "TrimesterID      int64\n",
       "dtype: object"
      ]
     },
     "execution_count": 46,
     "metadata": {},
     "output_type": "execute_result"
    }
   ],
   "source": [
    "print('Rent table:')\n",
    "area_table.dtypes"
   ]
  },
  {
   "cell_type": "code",
   "execution_count": 47,
   "metadata": {
    "colab": {
     "base_uri": "https://localhost:8080/"
    },
    "executionInfo": {
     "elapsed": 3,
     "status": "ok",
     "timestamp": 1698425126045,
     "user": {
      "displayName": "Alexandros Tremopoulos",
      "userId": "18030826848297166341"
     },
     "user_tz": -120
    },
    "id": "H4Kk9uIhBT82",
    "outputId": "0a304b3d-afab-4946-d8d3-ea3b34dc40df"
   },
   "outputs": [
    {
     "name": "stdout",
     "output_type": "stream",
     "text": [
      "Income table:\n"
     ]
    },
    {
     "data": {
      "text/plain": [
       "Income    float64\n",
       "AreaID      int64\n",
       "YearID      int64\n",
       "dtype: object"
      ]
     },
     "execution_count": 47,
     "metadata": {},
     "output_type": "execute_result"
    }
   ],
   "source": [
    "print('Income table:')\n",
    "income_table.dtypes"
   ]
  },
  {
   "cell_type": "code",
   "execution_count": 48,
   "metadata": {
    "id": "HvwnId60B4ig"
   },
   "outputs": [
    {
     "name": "stdout",
     "output_type": "stream",
     "text": [
      "Year table:\n"
     ]
    },
    {
     "data": {
      "text/plain": [
       "ID      int64\n",
       "Year    int64\n",
       "dtype: object"
      ]
     },
     "execution_count": 48,
     "metadata": {},
     "output_type": "execute_result"
    }
   ],
   "source": [
    "print('Year table:')\n",
    "table_year.dtypes"
   ]
  },
  {
   "cell_type": "code",
   "execution_count": null,
   "metadata": {},
   "outputs": [],
   "source": []
  }
 ],
 "metadata": {
  "colab": {
   "authorship_tag": "ABX9TyPP3QULgrThyjspeMmqwOe2",
   "provenance": []
  },
  "kernelspec": {
   "display_name": "Python 3",
   "language": "python",
   "name": "python3"
  },
  "language_info": {
   "codemirror_mode": {
    "name": "ipython",
    "version": 3
   },
   "file_extension": ".py",
   "mimetype": "text/x-python",
   "name": "python",
   "nbconvert_exporter": "python",
   "pygments_lexer": "ipython3",
   "version": "3.9.1"
  }
 },
 "nbformat": 4,
 "nbformat_minor": 1
}
