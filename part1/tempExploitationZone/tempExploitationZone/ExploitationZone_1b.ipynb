{
 "cells": [
  {
   "cell_type": "code",
   "execution_count": 11,
   "metadata": {
    "colab": {
     "base_uri": "https://localhost:8080/"
    },
    "executionInfo": {
     "elapsed": 1950,
     "status": "ok",
     "timestamp": 1700235391072,
     "user": {
      "displayName": "Alexandros Tremopoulos",
      "userId": "18030826848297166341"
     },
     "user_tz": -60
    },
    "id": "CAvZOC63OyBQ",
    "outputId": "d4e1add9-abef-46bf-a8f4-6b9a58e7b45f"
   },
   "outputs": [
    {
     "name": "stdout",
     "output_type": "stream",
     "text": [
      "Drive already mounted at /content/drive; to attempt to forcibly remount, call drive.mount(\"/content/drive\", force_remount=True).\n"
     ]
    }
   ],
   "source": [
    "from google.colab import drive\n",
    "drive.mount('/content/drive')"
   ]
  },
  {
   "cell_type": "code",
   "execution_count": 1,
   "metadata": {
    "executionInfo": {
     "elapsed": 482,
     "status": "ok",
     "timestamp": 1700235393018,
     "user": {
      "displayName": "Alexandros Tremopoulos",
      "userId": "18030826848297166341"
     },
     "user_tz": -60
    },
    "id": "2CLdPo-_gQYk"
   },
   "outputs": [],
   "source": [
    "import duckdb"
   ]
  },
  {
   "cell_type": "code",
   "execution_count": 17,
   "metadata": {
    "colab": {
     "base_uri": "https://localhost:8080/"
    },
    "executionInfo": {
     "elapsed": 6674,
     "status": "ok",
     "timestamp": 1700235752758,
     "user": {
      "displayName": "Alexandros Tremopoulos",
      "userId": "18030826848297166341"
     },
     "user_tz": -60
    },
    "id": "dwaCmT8X5pwU",
    "outputId": "f4da1357-48e6-4da2-d62c-dcc90f90d6d8"
   },
   "outputs": [
    {
     "name": "stdout",
     "output_type": "stream",
     "text": [
      "Requirement already satisfied: duckdb==0.8.1 in c:\\users\\sayye\\appdata\\local\\programs\\python\\python39\\lib\\site-packages (0.8.1)\n"
     ]
    },
    {
     "name": "stderr",
     "output_type": "stream",
     "text": [
      "WARNING: Ignoring invalid distribution -atplotlib (c:\\users\\sayye\\appdata\\local\\programs\\python\\python39\\lib\\site-packages)\n",
      "WARNING: Ignoring invalid distribution -atplotlib (c:\\users\\sayye\\appdata\\local\\programs\\python\\python39\\lib\\site-packages)\n",
      "WARNING: There was an error checking the latest version of pip.\n"
     ]
    }
   ],
   "source": [
    "!pip install -U duckdb==0.8.1"
   ]
  },
  {
   "cell_type": "markdown",
   "metadata": {
    "id": "VVViICaUHW5K"
   },
   "source": [
    "Connection with the trusted_database.db takes place and it prints the names of the tables it contains. In the next tables continue some exploration of the data. This notebook is used for the exploitation zone. We separate this zone in two notebooks. In this one the homogenization of data takes place while in the other the entities are created."
   ]
  },
  {
   "cell_type": "code",
   "execution_count": 18,
   "metadata": {
    "colab": {
     "base_uri": "https://localhost:8080/"
    },
    "executionInfo": {
     "elapsed": 8021,
     "status": "ok",
     "timestamp": 1700234834226,
     "user": {
      "displayName": "Alexandros Tremopoulos",
      "userId": "18030826848297166341"
     },
     "user_tz": -60
    },
    "id": "BuvdK_RoQPqI",
    "outputId": "c868e7b3-526b-49d1-dc58-403365900665"
   },
   "outputs": [],
   "source": [
    "#pip install unidecode"
   ]
  },
  {
   "cell_type": "code",
   "execution_count": 2,
   "metadata": {
    "colab": {
     "base_uri": "https://localhost:8080/",
     "height": 145
    },
    "executionInfo": {
     "elapsed": 395,
     "status": "error",
     "timestamp": 1700235773492,
     "user": {
      "displayName": "Alexandros Tremopoulos",
      "userId": "18030826848297166341"
     },
     "user_tz": -60
    },
    "id": "ZsS0WsMz8mXE",
    "outputId": "22dcbfef-dfaa-4132-c7f4-30a268432a43"
   },
   "outputs": [
    {
     "data": {
      "text/plain": [
       "'0.8.1'"
      ]
     },
     "execution_count": 2,
     "metadata": {},
     "output_type": "execute_result"
    }
   ],
   "source": [
    "duckdb.__version__"
   ]
  },
  {
   "cell_type": "code",
   "execution_count": 3,
   "metadata": {
    "colab": {
     "base_uri": "https://localhost:8080/",
     "height": 403
    },
    "executionInfo": {
     "elapsed": 327,
     "status": "error",
     "timestamp": 1700235498577,
     "user": {
      "displayName": "Alexandros Tremopoulos",
      "userId": "18030826848297166341"
     },
     "user_tz": -60
    },
    "id": "Ynch6gh7POrY",
    "outputId": "7677177f-575d-491c-e7fa-19968b25c8ec"
   },
   "outputs": [
    {
     "name": "stdout",
     "output_type": "stream",
     "text": [
      "['rents', 'income']\n"
     ]
    }
   ],
   "source": [
    "import os\n",
    "import pandas as pd\n",
    "import duckdb\n",
    "import sys\n",
    "import unidecode\n",
    "\n",
    "#con = duckdb.connect(database='/content/drive/MyDrive/ADSDB/TrustedZone/trusted_database.db')\n",
    "con = duckdb.connect(database='trusted_database.db')\n",
    "result = con.execute('SHOW TABLES')\n",
    "tables = result.fetchall()\n",
    "\n",
    "table_words = []\n",
    "for table in tables:\n",
    "    table_words.append(table[0].split('_')[0])\n",
    "tbl_words = list(set(table_words))\n",
    "print(tbl_words)"
   ]
  },
  {
   "cell_type": "markdown",
   "metadata": {
    "id": "-4-AHeGhHkEU"
   },
   "source": [
    "Firstly, convert sql tables to dataframes and print the first 5 rows of 'income' and 'rents' table"
   ]
  },
  {
   "cell_type": "code",
   "execution_count": 4,
   "metadata": {
    "colab": {
     "base_uri": "https://localhost:8080/"
    },
    "executionInfo": {
     "elapsed": 649,
     "status": "ok",
     "timestamp": 1698424444641,
     "user": {
      "displayName": "Alexandros Tremopoulos",
      "userId": "18030826848297166341"
     },
     "user_tz": -120
    },
    "id": "1VJdeMrkPoHm",
    "outputId": "3662c9a9-dbb1-4c02-a796-a8fba56c4773"
   },
   "outputs": [
    {
     "name": "stdout",
     "output_type": "stream",
     "text": [
      "    Any  Codi_Districte Nom_Districte  Codi_Barri Nom_Barri  Seccio_Censal  \\\n",
      "0  2018               1  Ciutat Vella           1  el Raval              1   \n",
      "1  2018               1  Ciutat Vella           1  el Raval              2   \n",
      "2  2018               1  Ciutat Vella           1  el Raval              3   \n",
      "3  2018               1  Ciutat Vella           1  el Raval              4   \n",
      "4  2018               1  Ciutat Vella           1  el Raval              5   \n",
      "\n",
      "   Import_Renda_Bruta_  id  \n",
      "0                12391   1  \n",
      "1                 9577   2  \n",
      "2                 9833   3  \n",
      "3                12977   4  \n",
      "4                10142   5  \n",
      "   Year  Trimester      District                          Neighbourhood  \\\n",
      "0  2018          1  Ciutat Vella                               el Raval   \n",
      "1  2018          1  Ciutat Vella                         Gothic Quarter   \n",
      "2  2018          1  Ciutat Vella                         la Barceloneta   \n",
      "3  2018          1  Ciutat Vella  Sant Pere, Santa Caterina i la Ribera   \n",
      "4  2018          1      Eixample                             Fort Pienc   \n",
      "\n",
      "               Average__rent   Price  id  \n",
      "0  average rent (euro/month)  792.74   1  \n",
      "1  average rent (euro/month)  998.40   2  \n",
      "2  average rent (euro/month)  870.84   3  \n",
      "3  average rent (euro/month)  923.44   4  \n",
      "4  average rent (euro/month)  910.53   5  \n"
     ]
    },
    {
     "name": "stderr",
     "output_type": "stream",
     "text": [
      "c:\\users\\sayye\\appdata\\local\\programs\\python\\python39\\lib\\site-packages\\pandas\\io\\sql.py:761: UserWarning: pandas only support SQLAlchemy connectable(engine/connection) ordatabase string URI or sqlite3 DBAPI2 connectionother DBAPI2 objects are not tested, please consider using SQLAlchemy\n",
      "  warnings.warn(\n",
      "c:\\users\\sayye\\appdata\\local\\programs\\python\\python39\\lib\\site-packages\\pandas\\io\\sql.py:761: UserWarning: pandas only support SQLAlchemy connectable(engine/connection) ordatabase string URI or sqlite3 DBAPI2 connectionother DBAPI2 objects are not tested, please consider using SQLAlchemy\n",
      "  warnings.warn(\n"
     ]
    }
   ],
   "source": [
    "table_name = 'income'\n",
    "\n",
    "query = f'SELECT * FROM {table_name};'\n",
    "df_income = pd.read_sql_query(query, con)\n",
    "print(df_income.head())\n",
    "\n",
    "table_name = 'rents'\n",
    "\n",
    "query = f'SELECT * FROM {table_name};'\n",
    "df_rents = pd.read_sql_query(query, con)\n",
    "print(df_rents.head())\n",
    "con.close()"
   ]
  },
  {
   "cell_type": "code",
   "execution_count": 5,
   "metadata": {
    "colab": {
     "base_uri": "https://localhost:8080/"
    },
    "executionInfo": {
     "elapsed": 226,
     "status": "ok",
     "timestamp": 1698424450730,
     "user": {
      "displayName": "Alexandros Tremopoulos",
      "userId": "18030826848297166341"
     },
     "user_tz": -120
    },
    "id": "G0liOhfEQENF",
    "outputId": "b9542f57-9adf-4d12-9c39-4bb46f4ce1f9"
   },
   "outputs": [
    {
     "data": {
      "text/plain": [
       "Sant Martí             441\n",
       "Horta-Guinardó         369\n",
       "Sants-Montjuïc         351\n",
       "Nou Barris             351\n",
       "Eixample               346\n",
       "Sarrià-Sant Gervasi    294\n",
       "Sant Andreu            285\n",
       "Gràcia                 261\n",
       "L'Eixample             173\n",
       "Les Corts              171\n",
       "Ciutat Vella           162\n",
       "Name: Nom_Districte, dtype: int64"
      ]
     },
     "execution_count": 5,
     "metadata": {},
     "output_type": "execute_result"
    }
   ],
   "source": [
    "df_income['Nom_Districte'].value_counts()  # all the different Districts in income table along with their frequencies"
   ]
  },
  {
   "cell_type": "code",
   "execution_count": 6,
   "metadata": {
    "colab": {
     "base_uri": "https://localhost:8080/"
    },
    "executionInfo": {
     "elapsed": 345,
     "status": "ok",
     "timestamp": 1698424452310,
     "user": {
      "displayName": "Alexandros Tremopoulos",
      "userId": "18030826848297166341"
     },
     "user_tz": -120
    },
    "id": "JmTV3fE5QHSv",
    "outputId": "91661833-4a56-4ab6-99da-06d7310e5b8d"
   },
   "outputs": [
    {
     "data": {
      "text/plain": [
       "Nou Barris             242\n",
       "Horta-Guinardo         240\n",
       "Sant Marti             240\n",
       "Sants-Montjuic         170\n",
       "Sant Andreu            148\n",
       "Eixample               144\n",
       "Sarria-Sant Gervasi    144\n",
       "Gracia                 120\n",
       "Ciutat Vella            96\n",
       "Les Corts               72\n",
       "Name: District, dtype: int64"
      ]
     },
     "execution_count": 6,
     "metadata": {},
     "output_type": "execute_result"
    }
   ],
   "source": [
    "df_rents['District'].value_counts()   # all the different Districts in rents table along with their frequencies"
   ]
  },
  {
   "cell_type": "code",
   "execution_count": 7,
   "metadata": {
    "id": "LrNc20kDQJpn"
   },
   "outputs": [],
   "source": [
    "barrios_income = df_income['Nom_Barri'].value_counts()  # find and save the different Neighbourhoods and their frequencies of the income table"
   ]
  },
  {
   "cell_type": "code",
   "execution_count": 8,
   "metadata": {
    "colab": {
     "base_uri": "https://localhost:8080/"
    },
    "executionInfo": {
     "elapsed": 5,
     "status": "ok",
     "timestamp": 1698424456143,
     "user": {
      "displayName": "Alexandros Tremopoulos",
      "userId": "18030826848297166341"
     },
     "user_tz": -120
    },
    "id": "2IIVlwNVQWWb",
    "outputId": "9322de73-af8d-4ee7-87a0-3423a3cbe0c3"
   },
   "outputs": [
    {
     "data": {
      "text/plain": [
       "la Nova Esquerra de l'Eixample    120\n",
       "Sant Andreu                       117\n",
       "les Corts                         105\n",
       "la Sagrada Família                102\n",
       "Sants                              87\n",
       "Name: Nom_Barri, dtype: int64"
      ]
     },
     "execution_count": 8,
     "metadata": {},
     "output_type": "execute_result"
    }
   ],
   "source": [
    "barrios_income.head(5)"
   ]
  },
  {
   "cell_type": "code",
   "execution_count": 9,
   "metadata": {
    "id": "n2H3bnV_QXWl"
   },
   "outputs": [],
   "source": [
    "barrios_rents = df_rents['Neighbourhood'].value_counts()    # find and save the different Neighbourhoods and their frequencies of the rents table"
   ]
  },
  {
   "cell_type": "code",
   "execution_count": 10,
   "metadata": {
    "colab": {
     "base_uri": "https://localhost:8080/"
    },
    "executionInfo": {
     "elapsed": 328,
     "status": "ok",
     "timestamp": 1698424459419,
     "user": {
      "displayName": "Alexandros Tremopoulos",
      "userId": "18030826848297166341"
     },
     "user_tz": -120
    },
    "id": "SBI_XJxYQXgp",
    "outputId": "2ad2a4c5-8a7c-4272-e6fb-02380b648f8e"
   },
   "outputs": [
    {
     "data": {
      "text/plain": [
       "el Raval                      24\n",
       "Ciutat Meridiana              24\n",
       "el Carmel                     24\n",
       "Gothic Quarter                24\n",
       "Sant Genis dels Agudells      24\n",
       "                              ..\n",
       "la Sagrada Familia             8\n",
       "Sant Martíide Provencals       8\n",
       "Torre Baro                     4\n",
       "Baro de Viver                  4\n",
       "la Marina del Prat Vermell     2\n",
       "Name: Neighbourhood, Length: 72, dtype: int64"
      ]
     },
     "execution_count": 10,
     "metadata": {},
     "output_type": "execute_result"
    }
   ],
   "source": [
    "barrios_rents"
   ]
  },
  {
   "cell_type": "markdown",
   "metadata": {
    "id": "7lhfNvllIj2j"
   },
   "source": [
    "In this phase we are testing which are the common neighbourhoods and districts of the two tables, and if they are referring to the same neighbourhood, but differently written, convert them to the same format. The purpose of this is to homogenize the two tables so they can be integrated."
   ]
  },
  {
   "cell_type": "code",
   "execution_count": 11,
   "metadata": {
    "colab": {
     "base_uri": "https://localhost:8080/"
    },
    "executionInfo": {
     "elapsed": 253,
     "status": "ok",
     "timestamp": 1698424461272,
     "user": {
      "displayName": "Alexandros Tremopoulos",
      "userId": "18030826848297166341"
     },
     "user_tz": -120
    },
    "id": "WG2vaLz2QXlW",
    "outputId": "11229360-5afd-4324-f09f-57237ec52a12"
   },
   "outputs": [
    {
     "data": {
      "text/plain": [
       "Verdun          24\n",
       "la Teixonera    24\n",
       "Sants-Badal     16\n",
       "Name: Nom_Barri, dtype: int64"
      ]
     },
     "execution_count": 11,
     "metadata": {},
     "output_type": "execute_result"
    }
   ],
   "source": [
    "barrios_income[barrios_income.isin(barrios_rents)]  # only 3 neighbourhoods are common. That seems odd. Thus, we are processing the values."
   ]
  },
  {
   "cell_type": "code",
   "execution_count": 12,
   "metadata": {
    "id": "dXIKwdk9ScZb"
   },
   "outputs": [],
   "source": [
    "import unidecode"
   ]
  },
  {
   "cell_type": "markdown",
   "metadata": {
    "id": "80p3RKJvI_lh"
   },
   "source": [
    "Strip whitespaces before and after string, convert to lowercase and unidecode to english characters without accents and special characters. Do this for neighbourhoods and districts in both datasets"
   ]
  },
  {
   "cell_type": "code",
   "execution_count": 13,
   "metadata": {
    "id": "4rFJAtb0Qc9M"
   },
   "outputs": [],
   "source": [
    "df_income['Nom_Barri'] = df_income['Nom_Barri'].apply(lambda x: x.strip())\n",
    "df_income['Nom_Barri'] = df_income['Nom_Barri'].apply(lambda x: x.lower())\n",
    "df_income['Nom_Barri'] = df_income['Nom_Barri'].apply(lambda x: unidecode.unidecode(x))"
   ]
  },
  {
   "cell_type": "code",
   "execution_count": 14,
   "metadata": {
    "colab": {
     "base_uri": "https://localhost:8080/"
    },
    "executionInfo": {
     "elapsed": 5,
     "status": "ok",
     "timestamp": 1698424466970,
     "user": {
      "displayName": "Alexandros Tremopoulos",
      "userId": "18030826848297166341"
     },
     "user_tz": -120
    },
    "id": "pCY3Nq5eQdCM",
    "outputId": "9912152c-95ad-4ccb-f54c-23865ad2c9f8"
   },
   "outputs": [
    {
     "data": {
      "text/plain": [
       "la nova esquerra de l'eixample    120\n",
       "sant andreu                       117\n",
       "les corts                         105\n",
       "la sagrada familia                102\n",
       "sants                              87\n",
       "                                 ... \n",
       "baro de viver                       6\n",
       "torre baro                          6\n",
       "la clota                            3\n",
       "vallbona                            3\n",
       "la marina del prat vermell          3\n",
       "Name: Nom_Barri, Length: 80, dtype: int64"
      ]
     },
     "execution_count": 14,
     "metadata": {},
     "output_type": "execute_result"
    }
   ],
   "source": [
    "df_income['Nom_Barri'].value_counts()"
   ]
  },
  {
   "cell_type": "code",
   "execution_count": 15,
   "metadata": {
    "colab": {
     "base_uri": "https://localhost:8080/"
    },
    "executionInfo": {
     "elapsed": 314,
     "status": "ok",
     "timestamp": 1698424468608,
     "user": {
      "displayName": "Alexandros Tremopoulos",
      "userId": "18030826848297166341"
     },
     "user_tz": -120
    },
    "id": "dUz2wk6hQdEy",
    "outputId": "83f1542a-00b3-4e21-8cf6-33b5b0ac495a"
   },
   "outputs": [
    {
     "data": {
      "text/plain": [
       "el Raval                      24\n",
       "Ciutat Meridiana              24\n",
       "el Carmel                     24\n",
       "Gothic Quarter                24\n",
       "Sant Genis dels Agudells      24\n",
       "                              ..\n",
       "la Sagrada Familia             8\n",
       "Sant Martíide Provencals       8\n",
       "Torre Baro                     4\n",
       "Baro de Viver                  4\n",
       "la Marina del Prat Vermell     2\n",
       "Name: Neighbourhood, Length: 72, dtype: int64"
      ]
     },
     "execution_count": 15,
     "metadata": {},
     "output_type": "execute_result"
    }
   ],
   "source": [
    "df_rents['Neighbourhood'].value_counts()"
   ]
  },
  {
   "cell_type": "code",
   "execution_count": 16,
   "metadata": {
    "id": "PTy9vSq-QdHU"
   },
   "outputs": [],
   "source": [
    "df_rents['Neighbourhood'] = df_rents['Neighbourhood'].apply(lambda x: x.strip())\n",
    "df_rents['Neighbourhood'] = df_rents['Neighbourhood'].apply(lambda x: x.lower())\n",
    "df_rents['Neighbourhood'] = df_rents['Neighbourhood'].apply(lambda x: unidecode.unidecode(x))"
   ]
  },
  {
   "cell_type": "code",
   "execution_count": 17,
   "metadata": {
    "colab": {
     "base_uri": "https://localhost:8080/"
    },
    "executionInfo": {
     "elapsed": 2,
     "status": "ok",
     "timestamp": 1698424470772,
     "user": {
      "displayName": "Alexandros Tremopoulos",
      "userId": "18030826848297166341"
     },
     "user_tz": -120
    },
    "id": "HeMaHLEFTMIU",
    "outputId": "ec2c4bf1-6516-438d-e51b-81550a33418b"
   },
   "outputs": [
    {
     "data": {
      "text/plain": [
       "el raval                      24\n",
       "ciutat meridiana              24\n",
       "el carmel                     24\n",
       "gothic quarter                24\n",
       "sant genis dels agudells      24\n",
       "                              ..\n",
       "la sagrada familia             8\n",
       "sant martiide provencals       8\n",
       "torre baro                     4\n",
       "baro de viver                  4\n",
       "la marina del prat vermell     2\n",
       "Name: Neighbourhood, Length: 72, dtype: int64"
      ]
     },
     "execution_count": 17,
     "metadata": {},
     "output_type": "execute_result"
    }
   ],
   "source": [
    "df_rents['Neighbourhood'].value_counts()"
   ]
  },
  {
   "cell_type": "markdown",
   "metadata": {
    "id": "CYYLgYFLJQw_"
   },
   "source": [
    "Check now the common neighbourhoods in rents and income tables"
   ]
  },
  {
   "cell_type": "code",
   "execution_count": 18,
   "metadata": {
    "id": "qA5LFGbNTmuS"
   },
   "outputs": [],
   "source": [
    "common_barrios = list(set(df_income['Nom_Barri']) & set(df_rents['Neighbourhood']))"
   ]
  },
  {
   "cell_type": "code",
   "execution_count": 19,
   "metadata": {
    "colab": {
     "base_uri": "https://localhost:8080/"
    },
    "executionInfo": {
     "elapsed": 3,
     "status": "ok",
     "timestamp": 1698424473134,
     "user": {
      "displayName": "Alexandros Tremopoulos",
      "userId": "18030826848297166341"
     },
     "user_tz": -120
    },
    "id": "OSn-mJODTvdt",
    "outputId": "7fa1b8b5-67f6-4802-c934-d2c444230717"
   },
   "outputs": [
    {
     "data": {
      "text/plain": [
       "68"
      ]
     },
     "execution_count": 19,
     "metadata": {},
     "output_type": "execute_result"
    }
   ],
   "source": [
    "len(common_barrios)  # there are 68 common neighbourhoods"
   ]
  },
  {
   "cell_type": "markdown",
   "metadata": {
    "id": "-lEa0eDgJfnn"
   },
   "source": [
    "Then check, which neighbourhoods are only in the income table and then only in the rents table. We observer that both have sagrada familia, gotic and fort pienc, but they are written differently. Convert them to same format. In addition, income table has sagrada familia and gotic written in two different formats. Convert them to one."
   ]
  },
  {
   "cell_type": "code",
   "execution_count": 20,
   "metadata": {
    "colab": {
     "base_uri": "https://localhost:8080/"
    },
    "executionInfo": {
     "elapsed": 212,
     "status": "ok",
     "timestamp": 1698424475237,
     "user": {
      "displayName": "Alexandros Tremopoulos",
      "userId": "18030826848297166341"
     },
     "user_tz": -120
    },
    "id": "LnmzwfqfTwea",
    "outputId": "2a2009e4-fd02-4a04-bfe7-4359bfdf19c9"
   },
   "outputs": [
    {
     "data": {
      "text/plain": [
       "vila de gracia               72\n",
       "el fort pienc                60\n",
       "camp de l'arpa del clot      50\n",
       "el putget i farro            38\n",
       "sant gervasi- galvany        31\n",
       "el gotic                     18\n",
       "sant gervasi- la bonanova    18\n",
       "sants-badal                  16\n",
       "el barri gotic                9\n",
       "can peguera                   6\n",
       "la clota                      3\n",
       "vallbona                      3\n",
       "Name: Nom_Barri, dtype: int64"
      ]
     },
     "execution_count": 20,
     "metadata": {},
     "output_type": "execute_result"
    }
   ],
   "source": [
    "df_income['Nom_Barri'][~df_income['Nom_Barri'].isin(common_barrios)].value_counts()"
   ]
  },
  {
   "cell_type": "code",
   "execution_count": 21,
   "metadata": {
    "colab": {
     "base_uri": "https://localhost:8080/"
    },
    "executionInfo": {
     "elapsed": 1,
     "status": "ok",
     "timestamp": 1698424476393,
     "user": {
      "displayName": "Alexandros Tremopoulos",
      "userId": "18030826848297166341"
     },
     "user_tz": -120
    },
    "id": "kiE07pfbUvjN",
    "outputId": "69a2514c-6ca9-4e0f-f1aa-57a078ce303b"
   },
   "outputs": [
    {
     "data": {
      "text/plain": [
       "gothic quarter              24\n",
       "fort pienc                  24\n",
       "sagrada familia             16\n",
       "sant martiide provencals     8\n",
       "Name: Neighbourhood, dtype: int64"
      ]
     },
     "execution_count": 21,
     "metadata": {},
     "output_type": "execute_result"
    }
   ],
   "source": [
    "df_rents['Neighbourhood'][~df_rents['Neighbourhood'].isin(common_barrios)].value_counts()"
   ]
  },
  {
   "cell_type": "code",
   "execution_count": 22,
   "metadata": {
    "id": "qsASvnWZU9Z5"
   },
   "outputs": [],
   "source": [
    "df_rents['Neighbourhood'] = df_rents['Neighbourhood'].str.replace('la sagrada familia', 'sagrada familia')\n",
    "df_rents['Neighbourhood'] = df_rents['Neighbourhood'].str.replace('gothic quarter', 'el gotic')\n",
    "df_rents['Neighbourhood'] = df_rents['Neighbourhood'].str.replace('fort pienc', 'el fort pienc')\n",
    "\n",
    "df_income['Nom_Barri'] = df_income['Nom_Barri'].str.replace('el barri gotic', 'el gotic')\n",
    "df_income['Nom_Barri'] = df_income['Nom_Barri'].str.replace('la sagrada familia', 'sagrada familia')"
   ]
  },
  {
   "cell_type": "markdown",
   "metadata": {
    "id": "GN_qTgu-J99a"
   },
   "source": [
    "After these changes, there are 70 common neighbourhoods, income table has 9 extra and rents table one extra."
   ]
  },
  {
   "cell_type": "code",
   "execution_count": 23,
   "metadata": {
    "id": "lnrIHJfRWfZ6"
   },
   "outputs": [],
   "source": [
    "common_barrios = list(set(df_income['Nom_Barri']) & set(df_rents['Neighbourhood']))"
   ]
  },
  {
   "cell_type": "code",
   "execution_count": 24,
   "metadata": {
    "colab": {
     "base_uri": "https://localhost:8080/"
    },
    "executionInfo": {
     "elapsed": 2,
     "status": "ok",
     "timestamp": 1698424479544,
     "user": {
      "displayName": "Alexandros Tremopoulos",
      "userId": "18030826848297166341"
     },
     "user_tz": -120
    },
    "id": "HJ6-JHrdWtHM",
    "outputId": "943247a8-b9f2-457c-a8be-2b6e8d785fa5"
   },
   "outputs": [
    {
     "data": {
      "text/plain": [
       "70"
      ]
     },
     "execution_count": 24,
     "metadata": {},
     "output_type": "execute_result"
    }
   ],
   "source": [
    "len(common_barrios)"
   ]
  },
  {
   "cell_type": "markdown",
   "metadata": {
    "id": "ggKJ0QdNKKSE"
   },
   "source": [
    "Now, similar process for finding common and different districts in the two tables. They have the same 10 districts, but eixample is written differently. Convert to same string format."
   ]
  },
  {
   "cell_type": "code",
   "execution_count": 25,
   "metadata": {
    "colab": {
     "base_uri": "https://localhost:8080/"
    },
    "executionInfo": {
     "elapsed": 707,
     "status": "ok",
     "timestamp": 1698424481212,
     "user": {
      "displayName": "Alexandros Tremopoulos",
      "userId": "18030826848297166341"
     },
     "user_tz": -120
    },
    "id": "OHFbG8Xra2rD",
    "outputId": "4d4788ed-187b-4cd3-c6cc-9446b7db203a"
   },
   "outputs": [
    {
     "data": {
      "text/plain": [
       "eixample               519\n",
       "sant marti             441\n",
       "horta-guinardo         369\n",
       "sants-montjuic         351\n",
       "nou barris             351\n",
       "sarria-sant gervasi    294\n",
       "sant andreu            285\n",
       "gracia                 261\n",
       "les corts              171\n",
       "ciutat vella           162\n",
       "Name: Nom_Districte, dtype: int64"
      ]
     },
     "execution_count": 25,
     "metadata": {},
     "output_type": "execute_result"
    }
   ],
   "source": [
    "df_income['Nom_Districte'] = df_income['Nom_Districte'].apply(lambda x: x.strip())\n",
    "df_income['Nom_Districte'] = df_income['Nom_Districte'].apply(lambda x: x.lower())\n",
    "df_income['Nom_Districte'] = df_income['Nom_Districte'].apply(lambda x: unidecode.unidecode(x))\n",
    "df_income['Nom_Districte'] = df_income['Nom_Districte'].str.replace(\"l'eixample\", 'eixample')\n",
    "df_income['Nom_Districte'].value_counts()"
   ]
  },
  {
   "cell_type": "code",
   "execution_count": 26,
   "metadata": {
    "colab": {
     "base_uri": "https://localhost:8080/"
    },
    "executionInfo": {
     "elapsed": 234,
     "status": "ok",
     "timestamp": 1698424482611,
     "user": {
      "displayName": "Alexandros Tremopoulos",
      "userId": "18030826848297166341"
     },
     "user_tz": -120
    },
    "id": "Q9hu-4kobLTT",
    "outputId": "11d2f4d4-c823-4ce7-f8a2-474c895695e1"
   },
   "outputs": [
    {
     "data": {
      "text/plain": [
       "nou barris             242\n",
       "horta-guinardo         240\n",
       "sant marti             240\n",
       "sants-montjuic         170\n",
       "sant andreu            148\n",
       "eixample               144\n",
       "sarria-sant gervasi    144\n",
       "gracia                 120\n",
       "ciutat vella            96\n",
       "les corts               72\n",
       "Name: District, dtype: int64"
      ]
     },
     "execution_count": 26,
     "metadata": {},
     "output_type": "execute_result"
    }
   ],
   "source": [
    "df_rents['District'] = df_rents['District'].apply(lambda x: x.strip())\n",
    "df_rents['District'] = df_rents['District'].apply(lambda x: x.lower())\n",
    "df_rents['District'] = df_rents['District'].apply(lambda x: unidecode.unidecode(x))\n",
    "#df_rents['District'] = df_rents['District'].str.replace('eixample', \"l'eixample\")\n",
    "df_rents['District'].value_counts()"
   ]
  },
  {
   "cell_type": "code",
   "execution_count": 27,
   "metadata": {
    "colab": {
     "base_uri": "https://localhost:8080/"
    },
    "executionInfo": {
     "elapsed": 3,
     "status": "ok",
     "timestamp": 1698424483775,
     "user": {
      "displayName": "Alexandros Tremopoulos",
      "userId": "18030826848297166341"
     },
     "user_tz": -120
    },
    "id": "IhZE702Zbov4",
    "outputId": "f7b5da79-a4ea-493e-e686-b51e48c4b7b8"
   },
   "outputs": [
    {
     "data": {
      "text/plain": [
       "10"
      ]
     },
     "execution_count": 27,
     "metadata": {},
     "output_type": "execute_result"
    }
   ],
   "source": [
    "common_districts = list(set(df_rents['District']) & set(df_income['Nom_Districte']))\n",
    "len(common_districts)"
   ]
  },
  {
   "cell_type": "code",
   "execution_count": 28,
   "metadata": {
    "colab": {
     "base_uri": "https://localhost:8080/"
    },
    "executionInfo": {
     "elapsed": 297,
     "status": "ok",
     "timestamp": 1698424484070,
     "user": {
      "displayName": "Alexandros Tremopoulos",
      "userId": "18030826848297166341"
     },
     "user_tz": -120
    },
    "id": "aNZPr0zFbwgy",
    "outputId": "de193d96-82a7-4786-d9af-b7255e571fb4"
   },
   "outputs": [
    {
     "data": {
      "text/plain": [
       "Series([], Name: District, dtype: int64)"
      ]
     },
     "execution_count": 28,
     "metadata": {},
     "output_type": "execute_result"
    }
   ],
   "source": [
    "df_rents['District'][~df_rents['District'].isin(common_districts)].value_counts()"
   ]
  },
  {
   "cell_type": "code",
   "execution_count": 29,
   "metadata": {
    "colab": {
     "base_uri": "https://localhost:8080/"
    },
    "executionInfo": {
     "elapsed": 2,
     "status": "ok",
     "timestamp": 1698424484892,
     "user": {
      "displayName": "Alexandros Tremopoulos",
      "userId": "18030826848297166341"
     },
     "user_tz": -120
    },
    "id": "JWTHzui2b76s",
    "outputId": "b49baa3c-1630-40c1-b23e-1e43cce1e77a"
   },
   "outputs": [
    {
     "data": {
      "text/plain": [
       "Series([], Name: Nom_Districte, dtype: int64)"
      ]
     },
     "execution_count": 29,
     "metadata": {},
     "output_type": "execute_result"
    }
   ],
   "source": [
    "df_income['Nom_Districte'][~df_income['Nom_Districte'].isin(common_districts)].value_counts()"
   ]
  },
  {
   "cell_type": "code",
   "execution_count": 30,
   "metadata": {},
   "outputs": [
    {
     "data": {
      "text/html": [
       "<div>\n",
       "<style scoped>\n",
       "    .dataframe tbody tr th:only-of-type {\n",
       "        vertical-align: middle;\n",
       "    }\n",
       "\n",
       "    .dataframe tbody tr th {\n",
       "        vertical-align: top;\n",
       "    }\n",
       "\n",
       "    .dataframe thead th {\n",
       "        text-align: right;\n",
       "    }\n",
       "</style>\n",
       "<table border=\"1\" class=\"dataframe\">\n",
       "  <thead>\n",
       "    <tr style=\"text-align: right;\">\n",
       "      <th></th>\n",
       "      <th>Any</th>\n",
       "      <th>Codi_Districte</th>\n",
       "      <th>Nom_Districte</th>\n",
       "      <th>Codi_Barri</th>\n",
       "      <th>Nom_Barri</th>\n",
       "      <th>Seccio_Censal</th>\n",
       "      <th>Import_Renda_Bruta_</th>\n",
       "      <th>id</th>\n",
       "    </tr>\n",
       "  </thead>\n",
       "  <tbody>\n",
       "    <tr>\n",
       "      <th>0</th>\n",
       "      <td>2018</td>\n",
       "      <td>1</td>\n",
       "      <td>ciutat vella</td>\n",
       "      <td>1</td>\n",
       "      <td>el raval</td>\n",
       "      <td>1</td>\n",
       "      <td>12391</td>\n",
       "      <td>1</td>\n",
       "    </tr>\n",
       "    <tr>\n",
       "      <th>1</th>\n",
       "      <td>2018</td>\n",
       "      <td>1</td>\n",
       "      <td>ciutat vella</td>\n",
       "      <td>1</td>\n",
       "      <td>el raval</td>\n",
       "      <td>2</td>\n",
       "      <td>9577</td>\n",
       "      <td>2</td>\n",
       "    </tr>\n",
       "    <tr>\n",
       "      <th>2</th>\n",
       "      <td>2018</td>\n",
       "      <td>1</td>\n",
       "      <td>ciutat vella</td>\n",
       "      <td>1</td>\n",
       "      <td>el raval</td>\n",
       "      <td>3</td>\n",
       "      <td>9833</td>\n",
       "      <td>3</td>\n",
       "    </tr>\n",
       "    <tr>\n",
       "      <th>3</th>\n",
       "      <td>2018</td>\n",
       "      <td>1</td>\n",
       "      <td>ciutat vella</td>\n",
       "      <td>1</td>\n",
       "      <td>el raval</td>\n",
       "      <td>4</td>\n",
       "      <td>12977</td>\n",
       "      <td>4</td>\n",
       "    </tr>\n",
       "    <tr>\n",
       "      <th>4</th>\n",
       "      <td>2018</td>\n",
       "      <td>1</td>\n",
       "      <td>ciutat vella</td>\n",
       "      <td>1</td>\n",
       "      <td>el raval</td>\n",
       "      <td>5</td>\n",
       "      <td>10142</td>\n",
       "      <td>5</td>\n",
       "    </tr>\n",
       "  </tbody>\n",
       "</table>\n",
       "</div>"
      ],
      "text/plain": [
       "    Any  Codi_Districte Nom_Districte  Codi_Barri Nom_Barri  Seccio_Censal  \\\n",
       "0  2018               1  ciutat vella           1  el raval              1   \n",
       "1  2018               1  ciutat vella           1  el raval              2   \n",
       "2  2018               1  ciutat vella           1  el raval              3   \n",
       "3  2018               1  ciutat vella           1  el raval              4   \n",
       "4  2018               1  ciutat vella           1  el raval              5   \n",
       "\n",
       "   Import_Renda_Bruta_  id  \n",
       "0                12391   1  \n",
       "1                 9577   2  \n",
       "2                 9833   3  \n",
       "3                12977   4  \n",
       "4                10142   5  "
      ]
     },
     "execution_count": 30,
     "metadata": {},
     "output_type": "execute_result"
    }
   ],
   "source": [
    "df_income.head()"
   ]
  },
  {
   "cell_type": "code",
   "execution_count": 31,
   "metadata": {},
   "outputs": [
    {
     "name": "stdout",
     "output_type": "stream",
     "text": [
      "      Any        Nom_Districte                              Nom_Barri  \\\n",
      "0    2018         ciutat vella                               el gotic   \n",
      "1    2018         ciutat vella                               el raval   \n",
      "2    2018         ciutat vella                         la barceloneta   \n",
      "3    2018         ciutat vella  sant pere, santa caterina i la ribera   \n",
      "4    2018             eixample                          el fort pienc   \n",
      "..    ...                  ...                                    ...   \n",
      "214  2020  sarria-sant gervasi                        les tres torres   \n",
      "215  2020  sarria-sant gervasi                  sant gervasi- galvany   \n",
      "216  2020  sarria-sant gervasi              sant gervasi- la bonanova   \n",
      "217  2020  sarria-sant gervasi                                 sarria   \n",
      "218  2020  sarria-sant gervasi  vallvidrera, el tibidabo i les planes   \n",
      "\n",
      "     Import_Renda_Bruta_  \n",
      "0           15882.444444  \n",
      "1           11238.095238  \n",
      "2           14431.090909  \n",
      "3           16840.307692  \n",
      "4           21270.550000  \n",
      "..                   ...  \n",
      "214         42970.727273  \n",
      "215         37860.935484  \n",
      "216         37073.888889  \n",
      "217         36961.312500  \n",
      "218         28056.000000  \n",
      "\n",
      "[219 rows x 4 columns]\n"
     ]
    }
   ],
   "source": [
    "average_income_by_barri = df_income.groupby(['Any','Nom_Districte', 'Nom_Barri'])['Import_Renda_Bruta_'].mean().reset_index()\n",
    "\n",
    "# Display the result\n",
    "print(average_income_by_barri)"
   ]
  },
  {
   "cell_type": "code",
   "execution_count": 32,
   "metadata": {},
   "outputs": [
    {
     "data": {
      "text/html": [
       "<div>\n",
       "<style scoped>\n",
       "    .dataframe tbody tr th:only-of-type {\n",
       "        vertical-align: middle;\n",
       "    }\n",
       "\n",
       "    .dataframe tbody tr th {\n",
       "        vertical-align: top;\n",
       "    }\n",
       "\n",
       "    .dataframe thead th {\n",
       "        text-align: right;\n",
       "    }\n",
       "</style>\n",
       "<table border=\"1\" class=\"dataframe\">\n",
       "  <thead>\n",
       "    <tr style=\"text-align: right;\">\n",
       "      <th></th>\n",
       "      <th>Any</th>\n",
       "      <th>Nom_Districte</th>\n",
       "      <th>Nom_Barri</th>\n",
       "      <th>Import_Renda_Bruta_</th>\n",
       "    </tr>\n",
       "  </thead>\n",
       "  <tbody>\n",
       "    <tr>\n",
       "      <th>0</th>\n",
       "      <td>2018</td>\n",
       "      <td>ciutat vella</td>\n",
       "      <td>el gotic</td>\n",
       "      <td>15882.444444</td>\n",
       "    </tr>\n",
       "    <tr>\n",
       "      <th>1</th>\n",
       "      <td>2018</td>\n",
       "      <td>ciutat vella</td>\n",
       "      <td>el raval</td>\n",
       "      <td>11238.095238</td>\n",
       "    </tr>\n",
       "    <tr>\n",
       "      <th>2</th>\n",
       "      <td>2018</td>\n",
       "      <td>ciutat vella</td>\n",
       "      <td>la barceloneta</td>\n",
       "      <td>14431.090909</td>\n",
       "    </tr>\n",
       "    <tr>\n",
       "      <th>3</th>\n",
       "      <td>2018</td>\n",
       "      <td>ciutat vella</td>\n",
       "      <td>sant pere, santa caterina i la ribera</td>\n",
       "      <td>16840.307692</td>\n",
       "    </tr>\n",
       "    <tr>\n",
       "      <th>4</th>\n",
       "      <td>2018</td>\n",
       "      <td>eixample</td>\n",
       "      <td>el fort pienc</td>\n",
       "      <td>21270.550000</td>\n",
       "    </tr>\n",
       "  </tbody>\n",
       "</table>\n",
       "</div>"
      ],
      "text/plain": [
       "    Any Nom_Districte                              Nom_Barri  \\\n",
       "0  2018  ciutat vella                               el gotic   \n",
       "1  2018  ciutat vella                               el raval   \n",
       "2  2018  ciutat vella                         la barceloneta   \n",
       "3  2018  ciutat vella  sant pere, santa caterina i la ribera   \n",
       "4  2018      eixample                          el fort pienc   \n",
       "\n",
       "   Import_Renda_Bruta_  \n",
       "0         15882.444444  \n",
       "1         11238.095238  \n",
       "2         14431.090909  \n",
       "3         16840.307692  \n",
       "4         21270.550000  "
      ]
     },
     "execution_count": 32,
     "metadata": {},
     "output_type": "execute_result"
    }
   ],
   "source": [
    "average_income_by_barri.head()"
   ]
  },
  {
   "cell_type": "code",
   "execution_count": 33,
   "metadata": {},
   "outputs": [
    {
     "data": {
      "text/plain": [
       "(1616, 7)"
      ]
     },
     "execution_count": 33,
     "metadata": {},
     "output_type": "execute_result"
    }
   ],
   "source": [
    "df_rents.shape"
   ]
  },
  {
   "cell_type": "code",
   "execution_count": 34,
   "metadata": {},
   "outputs": [
    {
     "data": {
      "text/plain": [
       "average rent (euro/month)             808\n",
       "average rent per surface (euro/m2)    808\n",
       "Name: Average__rent, dtype: int64"
      ]
     },
     "execution_count": 34,
     "metadata": {},
     "output_type": "execute_result"
    }
   ],
   "source": [
    "df_rents['Average__rent'].value_counts()"
   ]
  },
  {
   "cell_type": "code",
   "execution_count": 35,
   "metadata": {},
   "outputs": [
    {
     "name": "stdout",
     "output_type": "stream",
     "text": [
      "(808, 5)\n"
     ]
    },
    {
     "data": {
      "text/html": [
       "<div>\n",
       "<style scoped>\n",
       "    .dataframe tbody tr th:only-of-type {\n",
       "        vertical-align: middle;\n",
       "    }\n",
       "\n",
       "    .dataframe tbody tr th {\n",
       "        vertical-align: top;\n",
       "    }\n",
       "\n",
       "    .dataframe thead th {\n",
       "        text-align: right;\n",
       "    }\n",
       "</style>\n",
       "<table border=\"1\" class=\"dataframe\">\n",
       "  <thead>\n",
       "    <tr style=\"text-align: right;\">\n",
       "      <th></th>\n",
       "      <th>Year</th>\n",
       "      <th>Trimester</th>\n",
       "      <th>District</th>\n",
       "      <th>Neighbourhood</th>\n",
       "      <th>Price</th>\n",
       "    </tr>\n",
       "  </thead>\n",
       "  <tbody>\n",
       "    <tr>\n",
       "      <th>0</th>\n",
       "      <td>2018</td>\n",
       "      <td>1</td>\n",
       "      <td>ciutat vella</td>\n",
       "      <td>el raval</td>\n",
       "      <td>792.74</td>\n",
       "    </tr>\n",
       "    <tr>\n",
       "      <th>1</th>\n",
       "      <td>2018</td>\n",
       "      <td>1</td>\n",
       "      <td>ciutat vella</td>\n",
       "      <td>el gotic</td>\n",
       "      <td>998.40</td>\n",
       "    </tr>\n",
       "    <tr>\n",
       "      <th>2</th>\n",
       "      <td>2018</td>\n",
       "      <td>1</td>\n",
       "      <td>ciutat vella</td>\n",
       "      <td>la barceloneta</td>\n",
       "      <td>870.84</td>\n",
       "    </tr>\n",
       "    <tr>\n",
       "      <th>3</th>\n",
       "      <td>2018</td>\n",
       "      <td>1</td>\n",
       "      <td>ciutat vella</td>\n",
       "      <td>sant pere, santa caterina i la ribera</td>\n",
       "      <td>923.44</td>\n",
       "    </tr>\n",
       "    <tr>\n",
       "      <th>4</th>\n",
       "      <td>2018</td>\n",
       "      <td>1</td>\n",
       "      <td>eixample</td>\n",
       "      <td>el fort pienc</td>\n",
       "      <td>910.53</td>\n",
       "    </tr>\n",
       "  </tbody>\n",
       "</table>\n",
       "</div>"
      ],
      "text/plain": [
       "   Year  Trimester      District                          Neighbourhood  \\\n",
       "0  2018          1  ciutat vella                               el raval   \n",
       "1  2018          1  ciutat vella                               el gotic   \n",
       "2  2018          1  ciutat vella                         la barceloneta   \n",
       "3  2018          1  ciutat vella  sant pere, santa caterina i la ribera   \n",
       "4  2018          1      eixample                          el fort pienc   \n",
       "\n",
       "    Price  \n",
       "0  792.74  \n",
       "1  998.40  \n",
       "2  870.84  \n",
       "3  923.44  \n",
       "4  910.53  "
      ]
     },
     "execution_count": 35,
     "metadata": {},
     "output_type": "execute_result"
    }
   ],
   "source": [
    "df_rents = df_rents.loc[df_rents['Average__rent'] == 'average rent (euro/month)']\n",
    "df_rents.reset_index(drop=True)\n",
    "df_rents = df_rents[['Year','Trimester','District','Neighbourhood','Price']]\n",
    "print(df_rents.shape)\n",
    "df_rents.head()"
   ]
  },
  {
   "cell_type": "code",
   "execution_count": 36,
   "metadata": {},
   "outputs": [],
   "source": [
    "df_rents.to_csv('df_rent_avg_month.csv',index=False) \n",
    "average_income_by_barri.to_csv('df_income_avg.csv',index=False)"
   ]
  },
  {
   "cell_type": "code",
   "execution_count": null,
   "metadata": {},
   "outputs": [],
   "source": []
  }
 ],
 "metadata": {
  "colab": {
   "authorship_tag": "ABX9TyOu4ehquXNeHeY5GwUzB71u",
   "provenance": []
  },
  "kernelspec": {
   "display_name": "Python 3",
   "language": "python",
   "name": "python3"
  },
  "language_info": {
   "codemirror_mode": {
    "name": "ipython",
    "version": 3
   },
   "file_extension": ".py",
   "mimetype": "text/x-python",
   "name": "python",
   "nbconvert_exporter": "python",
   "pygments_lexer": "ipython3",
   "version": "3.9.1"
  }
 },
 "nbformat": 4,
 "nbformat_minor": 1
}
